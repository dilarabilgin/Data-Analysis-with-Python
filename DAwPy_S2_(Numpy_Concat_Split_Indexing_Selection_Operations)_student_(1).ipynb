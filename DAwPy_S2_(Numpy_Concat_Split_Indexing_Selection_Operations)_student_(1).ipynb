{
  "cells": [
    {
      "cell_type": "markdown",
      "metadata": {
        "id": "yWnHJ1KUEOrl"
      },
      "source": [
        "___\n",
        "\n",
        "<p style=\"text-align: center;\"><img src=\"https://docs.google.com/uc?id=1lY0Uj5R04yMY3-ZppPWxqCr5pvBLYPnV\" class=\"img-fluid\" \n",
        "alt=\"CLRSWY\"></p>\n",
        "\n",
        "## <p style=\"background-color:#FDFEFE; font-family:newtimeroman; color:#9d4f8c; font-size:100%; text-align:center; border-radius:10px 10px;\">WAY TO REINVENT YOURSELF</p>\n",
        "\n",
        "___"
      ]
    },
    {
      "cell_type": "markdown",
      "metadata": {
        "id": "Ln9cMGpJEOrq"
      },
      "source": [
        "<img src=https://i.ibb.co/8NdjfdZ/Num-Py-logo.png width=\"700\" height=\"200\">\n",
        "\n",
        "## <p style=\"background-color:#FDFEFE; font-family:newtimeroman; color:#060108; font-size:200%; text-align:center; border-radius:10px 10px;\">Data Analysis with Python</p>\n",
        "\n",
        "## <p style=\"background-color:#FDFEFE; font-family:newtimeroman; color:#060108; font-size:150%; text-align:center; border-radius:10px 10px;\">Session - 02</p>\n",
        "\n",
        "## <p style=\"background-color:#FDFEFE; font-family:newtimeroman; color:#4d77cf; font-size:150%; text-align:center; border-radius:10px 10px;\">Numpy Arrays - Part - 02</p>"
      ]
    },
    {
      "cell_type": "markdown",
      "metadata": {
        "id": "MFxeLyqHJHJ8"
      },
      "source": [
        "<a id=\"toc\"></a>\n",
        "\n",
        "## <p style=\"background-color:#9d4f8c; font-family:newtimeroman; color:#FFF9ED; font-size:175%; text-align:center; border-radius:10px 10px;\">Content</p>\n",
        "\n",
        "* [IMPORTING LIBRARIES NEEDED IN THIS NOTEBOOK](#0)\n",
        "* [CONCATENATION OF THE ARRAYS](#00)\n",
        "    * [2D Matrix](#00.1)\n",
        "* [SPLITTING OF THE ARRAYS](#000)\n",
        "    * [2D Matrix](#000.1)\n",
        "* [SORTING OF THE ARRAYS](#0000)\n",
        "    * [2D Matrix](#0000.1)\n",
        "* [NUMPY INDEXING & SELECTION](#1)\n",
        "    * [Bracket Indexing & Selection](#1.1)\n",
        "    * [Indexing a 2D Array (Matrices)](#1.2)\n",
        "    * [Slicing a 2D Array (Matrices)](#1.3)\n",
        "    * [Fancy Indexing](#1.4)\n",
        "    * [Using Basic Index & Fancy Index Together](#1.5)\n",
        "    * [Using Basic Slicing & Fancy Index Together](#1.6)\n",
        "    * [More Indexing Help](#1.7)\n",
        "* [SELECTION ON A CONDITION](#2)\n",
        "* [BROADCASTING](#3)\n",
        "* [NUMPY OPERATIONS](#4)\n",
        "    * [Arithmetic Operations](#4.1)\n",
        "    * [Universal Array Functions](#4.2)\n",
        "    * [Statistical Calculations](#4.3)\n",
        "* [OFFICIAL TUTORIAL](#5)\n",
        "* [THE END OF THE SESSION-02](#6)"
      ]
    },
    {
      "cell_type": "markdown",
      "metadata": {
        "id": "VkLSrbW-JHJ-"
      },
      "source": [
        "## <p style=\"background-color:#9d4f8c; font-family:newtimeroman; color:#FFF9ED; font-size:175%; text-align:center; border-radius:10px 10px;\">Importing Libraries Needed in This Notebook</p>\n",
        "\n",
        "<a id=\"0\"></a>\n",
        "<a href=\"#toc\" class=\"btn btn-primary btn-sm\" role=\"button\" aria-pressed=\"true\" \n",
        "style=\"color:blue; background-color:#dfa8e4\" data-toggle=\"popover\">Content</a>\n",
        "\n",
        "Once you've installed NumPy you can import it as a library:\n",
        "\n",
        "**``NOTE:``** For installation instructions, please refer to the notebook at SESSION-01 (Numpy Part-01)"
      ]
    },
    {
      "cell_type": "code",
      "execution_count": 2,
      "metadata": {
        "id": "lm_KmcxkJHJ_"
      },
      "outputs": [],
      "source": [
        "import numpy as np"
      ]
    },
    {
      "cell_type": "markdown",
      "metadata": {
        "id": "1OuBWSE7JHKA"
      },
      "source": [
        "**REMINDER**<br>\n",
        "NumPy or Numeric Python is a package for computation on homogenous n-dimensional arrays. In numpy dimensions are called as axes.\n",
        "\n",
        "**Why do we need NumPy?**\n",
        "\n",
        "A question arises that why do we need NumPy when python lists are already there. The answer to it is we cannot perform operations on all the elements of two list directly. For example, we cannot multiply two lists directly we will have to do it element-wise. This is where the role of NumPy comes into play."
      ]
    },
    {
      "cell_type": "markdown",
      "metadata": {
        "id": "aMGlOmh0JHKA"
      },
      "source": [
        "## <p style=\"background-color:#9d4f8c; font-family:newtimeroman; color:#FFF9ED; font-size:175%; text-align:center; border-radius:10px 10px;\">Concatenation of the Arrays</p>\n",
        "\n",
        "<a id=\"00\"></a>\n",
        "<a href=\"#toc\" class=\"btn btn-primary btn-sm\" role=\"button\" aria-pressed=\"true\" \n",
        "style=\"color:blue; background-color:#dfa8e4\" data-toggle=\"popover\">Content</a>\n",
        "\n",
        "In this lecture we will first discuss how to concatenate, split and sort the arrays.\n",
        "\n",
        "**``concatenate((a1, a2, ...), axis=0, out=None)``**"
      ]
    },
    {
      "cell_type": "code",
      "execution_count": 3,
      "metadata": {
        "id": "hOLFtWbmJHKB"
      },
      "outputs": [],
      "source": [
        "x = np.array([1,2,3])\n",
        "y = np.array([4,5,6])\n",
        "z = np.array([7,8,9])"
      ]
    },
    {
      "cell_type": "code",
      "execution_count": 4,
      "metadata": {
        "colab": {
          "base_uri": "https://localhost:8080/"
        },
        "id": "siSfdDUnJHKC",
        "outputId": "87e7f530-f09a-43e0-a0a5-a01152dafffc"
      },
      "outputs": [
        {
          "output_type": "execute_result",
          "data": {
            "text/plain": [
              "array([1, 2, 3, 4, 5, 6])"
            ]
          },
          "metadata": {},
          "execution_count": 4
        }
      ],
      "source": [
        "np.concatenate([x,y]) #birlestirmek istedigimiz elementleri yaziyoruz iceriye"
      ]
    },
    {
      "cell_type": "code",
      "execution_count": 5,
      "metadata": {
        "colab": {
          "base_uri": "https://localhost:8080/"
        },
        "id": "-yTZ3yzeJHKD",
        "outputId": "5b3cd2a2-3eb6-42c3-ee28-9f477d8ea7b5"
      },
      "outputs": [
        {
          "output_type": "execute_result",
          "data": {
            "text/plain": [
              "array([1, 2, 3, 4, 5, 6, 7, 8, 9])"
            ]
          },
          "metadata": {},
          "execution_count": 5
        }
      ],
      "source": [
        "np.concatenate([x,y,z], axis=0)"
      ]
    },
    {
      "cell_type": "code",
      "execution_count": 6,
      "metadata": {
        "colab": {
          "base_uri": "https://localhost:8080/",
          "height": 198
        },
        "id": "TXQ9VpPnJHKE",
        "outputId": "5e7610dd-87e8-4493-f679-d783acd8116c"
      },
      "outputs": [
        {
          "output_type": "error",
          "ename": "AxisError",
          "evalue": "ignored",
          "traceback": [
            "\u001b[0;31m---------------------------------------------------------------------------\u001b[0m",
            "\u001b[0;31mAxisError\u001b[0m                                 Traceback (most recent call last)",
            "\u001b[0;32m<ipython-input-6-9705b43ec6bd>\u001b[0m in \u001b[0;36m<module>\u001b[0;34m()\u001b[0m\n\u001b[0;32m----> 1\u001b[0;31m \u001b[0mnp\u001b[0m\u001b[0;34m.\u001b[0m\u001b[0mconcatenate\u001b[0m\u001b[0;34m(\u001b[0m\u001b[0;34m[\u001b[0m\u001b[0mx\u001b[0m\u001b[0;34m,\u001b[0m\u001b[0my\u001b[0m\u001b[0;34m,\u001b[0m\u001b[0mz\u001b[0m\u001b[0;34m]\u001b[0m\u001b[0;34m,\u001b[0m \u001b[0maxis\u001b[0m\u001b[0;34m=\u001b[0m\u001b[0;36m1\u001b[0m\u001b[0;34m)\u001b[0m \u001b[0;31m#tek boyutlu ondan asagiya dogru gidemez\u001b[0m\u001b[0;34m\u001b[0m\u001b[0;34m\u001b[0m\u001b[0m\n\u001b[0m",
            "\u001b[0;32m<__array_function__ internals>\u001b[0m in \u001b[0;36mconcatenate\u001b[0;34m(*args, **kwargs)\u001b[0m\n",
            "\u001b[0;31mAxisError\u001b[0m: axis 1 is out of bounds for array of dimension 1"
          ]
        }
      ],
      "source": [
        "np.concatenate([x,y,z], axis=1) #tek boyutlu ondan asagiya dogru gidemez"
      ]
    },
    {
      "cell_type": "code",
      "execution_count": 7,
      "metadata": {
        "colab": {
          "base_uri": "https://localhost:8080/"
        },
        "id": "MJhgPV67JHKE",
        "outputId": "0bb17140-1776-4627-da0b-2f068059b73c"
      },
      "outputs": [
        {
          "output_type": "execute_result",
          "data": {
            "text/plain": [
              "array([[1, 2, 3],\n",
              "       [4, 5, 6],\n",
              "       [7, 8, 9]])"
            ]
          },
          "metadata": {},
          "execution_count": 7
        }
      ],
      "source": [
        "np.concatenate([x.reshape(1,3),y.reshape(1,3),z.reshape(1,3)], axis=0) #zaten boyut arttirdigimiz icin axis = 0 olarak kaliyor"
      ]
    },
    {
      "cell_type": "code",
      "source": [
        "np.concatenate([[x,y,z]], axis=1) #köseli parantezle iki boyutlu yapildi "
      ],
      "metadata": {
        "colab": {
          "base_uri": "https://localhost:8080/"
        },
        "id": "ALMMIBq2Kq96",
        "outputId": "c57792c5-24f4-4db5-987a-234aad782535"
      },
      "execution_count": 8,
      "outputs": [
        {
          "output_type": "execute_result",
          "data": {
            "text/plain": [
              "array([[1, 2, 3],\n",
              "       [4, 5, 6],\n",
              "       [7, 8, 9]])"
            ]
          },
          "metadata": {},
          "execution_count": 8
        }
      ]
    },
    {
      "cell_type": "markdown",
      "metadata": {
        "id": "lhOlc2J6JHKF"
      },
      "source": [
        "### <p style=\"background-color:#9d4f8c; font-family:newtimeroman; color:#FFF9ED; font-size:150%; text-align:LEFT; border-radius:10px 10px;\">2d Matrix</p>\n",
        "\n",
        "<a id=\"00.1\"></a>\n",
        "<a href=\"#toc\" class=\"btn btn-primary btn-sm\" role=\"button\" aria-pressed=\"true\" \n",
        "style=\"color:blue; background-color:#dfa8e4\" data-toggle=\"popover\">Content</a>"
      ]
    },
    {
      "cell_type": "code",
      "execution_count": 9,
      "metadata": {
        "id": "JXsI9-DCJHKH"
      },
      "outputs": [],
      "source": [
        "a = np.random.randint(10, size = (2,3))\n",
        "b = np.random.randint(10, size = (2,3))"
      ]
    },
    {
      "cell_type": "code",
      "execution_count": 10,
      "metadata": {
        "colab": {
          "base_uri": "https://localhost:8080/"
        },
        "id": "KqacU2cGJHKH",
        "outputId": "6ac20699-fd6e-462a-ccc7-df71170d57a8"
      },
      "outputs": [
        {
          "output_type": "execute_result",
          "data": {
            "text/plain": [
              "(array([[1, 8, 9],\n",
              "        [3, 8, 4]]), array([[7, 6, 2],\n",
              "        [8, 7, 9]]))"
            ]
          },
          "metadata": {},
          "execution_count": 10
        }
      ],
      "source": [
        "a,b"
      ]
    },
    {
      "cell_type": "code",
      "execution_count": 11,
      "metadata": {
        "colab": {
          "base_uri": "https://localhost:8080/"
        },
        "id": "9xBwAE6mJHKI",
        "outputId": "f46e1a5e-c7b8-4a36-caa9-bb6b9a45b974"
      },
      "outputs": [
        {
          "output_type": "execute_result",
          "data": {
            "text/plain": [
              "array([[1, 8, 9],\n",
              "       [3, 8, 4],\n",
              "       [7, 6, 2],\n",
              "       [8, 7, 9]])"
            ]
          },
          "metadata": {},
          "execution_count": 11
        }
      ],
      "source": [
        "np.concatenate([a,b], axis=0) #axis = 0 alt alta ekleme"
      ]
    },
    {
      "cell_type": "code",
      "execution_count": 12,
      "metadata": {
        "colab": {
          "base_uri": "https://localhost:8080/"
        },
        "id": "YZnGEzb1JHKJ",
        "outputId": "20abe0ca-0888-4318-93f0-e98a2891518f"
      },
      "outputs": [
        {
          "output_type": "execute_result",
          "data": {
            "text/plain": [
              "array([[1, 8, 9, 7, 6, 2],\n",
              "       [3, 8, 4, 8, 7, 9]])"
            ]
          },
          "metadata": {},
          "execution_count": 12
        }
      ],
      "source": [
        "np.concatenate([a,b], axis=1) #axis = 1 yan yana ekleme"
      ]
    },
    {
      "cell_type": "code",
      "source": [
        "x = np.array([[1,2,3], [4,5,6]])\n",
        "y = np.array([[7,8,9], [10,11,12], [13,14,15]])\n",
        "x,y"
      ],
      "metadata": {
        "colab": {
          "base_uri": "https://localhost:8080/"
        },
        "id": "iH7wAvYiEy0l",
        "outputId": "78e90556-767d-481d-ecbf-6e54fa08431e"
      },
      "execution_count": 14,
      "outputs": [
        {
          "output_type": "execute_result",
          "data": {
            "text/plain": [
              "(array([[1, 2, 3],\n",
              "        [4, 5, 6]]), array([[ 7,  8,  9],\n",
              "        [10, 11, 12],\n",
              "        [13, 14, 15]]))"
            ]
          },
          "metadata": {},
          "execution_count": 14
        }
      ]
    },
    {
      "cell_type": "code",
      "source": [
        "np.concatenate([x,y], axis=0)"
      ],
      "metadata": {
        "colab": {
          "base_uri": "https://localhost:8080/"
        },
        "id": "wnTX59RRFKvH",
        "outputId": "bdb9782b-9063-4093-8b1b-c1123a1210c3"
      },
      "execution_count": 15,
      "outputs": [
        {
          "output_type": "execute_result",
          "data": {
            "text/plain": [
              "array([[ 1,  2,  3],\n",
              "       [ 4,  5,  6],\n",
              "       [ 7,  8,  9],\n",
              "       [10, 11, 12],\n",
              "       [13, 14, 15]])"
            ]
          },
          "metadata": {},
          "execution_count": 15
        }
      ]
    },
    {
      "cell_type": "markdown",
      "metadata": {
        "id": "vbmsALqEJHKK"
      },
      "source": [
        "## <p style=\"background-color:#9d4f8c; font-family:newtimeroman; color:#FFF9ED; font-size:175%; text-align:center; border-radius:10px 10px;\">Splitting of the Arrays</p>\n",
        "\n",
        "<a id=\"000\"></a>\n",
        "<a href=\"#toc\" class=\"btn btn-primary btn-sm\" role=\"button\" aria-pressed=\"true\" \n",
        "style=\"color:blue; background-color:#dfa8e4\" data-toggle=\"popover\">Content</a>\n",
        "\n",
        "**``np.split(ary, indices_or_sections, axis=0)``**"
      ]
    },
    {
      "cell_type": "code",
      "execution_count": 20,
      "metadata": {
        "colab": {
          "base_uri": "https://localhost:8080/"
        },
        "id": "qCVAQJWTJHKL",
        "outputId": "212be2e9-e55b-4d05-ff90-2a60e245e572"
      },
      "outputs": [
        {
          "output_type": "execute_result",
          "data": {
            "text/plain": [
              "array([ 1,  2,  3, 99, 99,  3,  2,  1])"
            ]
          },
          "metadata": {},
          "execution_count": 20
        }
      ],
      "source": [
        "x = np.array([1,2,3,99,99,3,2,1])\n",
        "x"
      ]
    },
    {
      "cell_type": "code",
      "execution_count": 21,
      "metadata": {
        "colab": {
          "base_uri": "https://localhost:8080/"
        },
        "id": "VXxQlpRPJHKL",
        "outputId": "9e9d4f59-cd4a-49bf-9961-8fcdcb9f13a3"
      },
      "outputs": [
        {
          "output_type": "execute_result",
          "data": {
            "text/plain": [
              "[array([1, 2, 3]), array([99, 99]), array([3, 2, 1])]"
            ]
          },
          "metadata": {},
          "execution_count": 21
        }
      ],
      "source": [
        "np.split(x, [3,5]) #indexleri ifade ediyor 3 ve 5'ten böldü "
      ]
    },
    {
      "cell_type": "code",
      "execution_count": 22,
      "metadata": {
        "id": "hi_TbxT3JHKM"
      },
      "outputs": [],
      "source": [
        "a,b,c = np.split(x, [3,5])"
      ]
    },
    {
      "cell_type": "code",
      "execution_count": 24,
      "metadata": {
        "colab": {
          "base_uri": "https://localhost:8080/"
        },
        "id": "dnxE5_MkJHKM",
        "outputId": "f201870d-716a-40fa-9210-c016e3554b03"
      },
      "outputs": [
        {
          "output_type": "execute_result",
          "data": {
            "text/plain": [
              "(array([1, 2, 3]), array([99, 99]), array([3, 2, 1]))"
            ]
          },
          "metadata": {},
          "execution_count": 24
        }
      ],
      "source": [
        "a,b,c"
      ]
    },
    {
      "cell_type": "code",
      "execution_count": 25,
      "metadata": {
        "colab": {
          "base_uri": "https://localhost:8080/"
        },
        "id": "kZTFuQu_JHKN",
        "outputId": "78e2e072-0184-4c35-e1a9-baba72ac42ff"
      },
      "outputs": [
        {
          "output_type": "execute_result",
          "data": {
            "text/plain": [
              "[array([ 1,  2,  3, 99]), array([99,  3,  2,  1])]"
            ]
          },
          "metadata": {},
          "execution_count": 25
        }
      ],
      "source": [
        "np.split(x, [4]) #köseli parantez = indexleme"
      ]
    },
    {
      "cell_type": "code",
      "execution_count": 26,
      "metadata": {
        "colab": {
          "base_uri": "https://localhost:8080/"
        },
        "id": "Kr9XVQDTJHKO",
        "outputId": "4ac59c5e-bf92-418f-dd1a-35b7fe9dae48"
      },
      "outputs": [
        {
          "output_type": "execute_result",
          "data": {
            "text/plain": [
              "[array([1, 2]), array([ 3, 99]), array([99,  3]), array([2, 1])]"
            ]
          },
          "metadata": {},
          "execution_count": 26
        }
      ],
      "source": [
        "np.split(x,4) #köseli parantezi kalkinca 4'e böldü"
      ]
    },
    {
      "cell_type": "markdown",
      "metadata": {
        "id": "Hi-rgtf7JHKQ"
      },
      "source": [
        "The number of the elements ``should be divisible`` by 4, otherwise raises an error. If the argument (here is 4) is not enclosed by square brackets, then it means dividing into 4 pieces."
      ]
    },
    {
      "cell_type": "markdown",
      "metadata": {
        "id": "coZvNP3dJHKQ"
      },
      "source": [
        "### <p style=\"background-color:#9d4f8c; font-family:newtimeroman; color:#FFF9ED; font-size:150%; text-align:LEFT; border-radius:10px 10px;\">2d Matrix</p>\n",
        "\n",
        "<a id=\"000.1\"></a>\n",
        "<a href=\"#toc\" class=\"btn btn-primary btn-sm\" role=\"button\" aria-pressed=\"true\" \n",
        "style=\"color:blue; background-color:#dfa8e4\" data-toggle=\"popover\">Content</a>"
      ]
    },
    {
      "cell_type": "code",
      "execution_count": 17,
      "metadata": {
        "colab": {
          "base_uri": "https://localhost:8080/"
        },
        "id": "apDcHAXsJHKR",
        "outputId": "1fd4055f-562a-4161-9c18-ad20ceb5754a"
      },
      "outputs": [
        {
          "output_type": "execute_result",
          "data": {
            "text/plain": [
              "array([[ 0,  1,  2,  3],\n",
              "       [ 4,  5,  6,  7],\n",
              "       [ 8,  9, 10, 11],\n",
              "       [12, 13, 14, 15],\n",
              "       [16, 17, 18, 19]])"
            ]
          },
          "metadata": {},
          "execution_count": 17
        }
      ],
      "source": [
        "m = np.arange(20).reshape(5,4)\n",
        "m"
      ]
    },
    {
      "cell_type": "code",
      "execution_count": 18,
      "metadata": {
        "colab": {
          "base_uri": "https://localhost:8080/"
        },
        "id": "MLN_N7pIJHKR",
        "outputId": "7002c474-3540-4744-fcfc-dae24cd0606a"
      },
      "outputs": [
        {
          "output_type": "execute_result",
          "data": {
            "text/plain": [
              "[array([[0, 1, 2, 3]]), array([[ 4,  5,  6,  7],\n",
              "        [ 8,  9, 10, 11]]), array([[12, 13, 14, 15],\n",
              "        [16, 17, 18, 19]])]"
            ]
          },
          "metadata": {},
          "execution_count": 18
        }
      ],
      "source": [
        "np.split(m, [1,3], axis=0)"
      ]
    },
    {
      "cell_type": "code",
      "execution_count": 19,
      "metadata": {
        "colab": {
          "base_uri": "https://localhost:8080/"
        },
        "id": "DgMFGhLWJHKR",
        "outputId": "ad37afcd-a191-46e7-c32d-dae7f37d5fd3"
      },
      "outputs": [
        {
          "output_type": "execute_result",
          "data": {
            "text/plain": [
              "[array([[ 0,  1,  2,  3],\n",
              "        [ 4,  5,  6,  7],\n",
              "        [ 8,  9, 10, 11],\n",
              "        [12, 13, 14, 15],\n",
              "        [16, 17, 18, 19]]), array([], shape=(0, 4), dtype=int64)]"
            ]
          },
          "metadata": {},
          "execution_count": 19
        }
      ],
      "source": [
        "np.split(m, [5], axis=0) #ana arrayin boyutunu baz aliyor ve iki boyutlu yapiyor"
      ]
    },
    {
      "cell_type": "code",
      "execution_count": 20,
      "metadata": {
        "colab": {
          "base_uri": "https://localhost:8080/"
        },
        "id": "O24LxpzDJHKS",
        "outputId": "51ada368-ea02-4f67-eefd-f7f9c6d7bfd5"
      },
      "outputs": [
        {
          "output_type": "execute_result",
          "data": {
            "text/plain": [
              "[array([[ 0],\n",
              "        [ 4],\n",
              "        [ 8],\n",
              "        [12],\n",
              "        [16]]), array([[ 1,  2],\n",
              "        [ 5,  6],\n",
              "        [ 9, 10],\n",
              "        [13, 14],\n",
              "        [17, 18]]), array([[ 3],\n",
              "        [ 7],\n",
              "        [11],\n",
              "        [15],\n",
              "        [19]])]"
            ]
          },
          "metadata": {},
          "execution_count": 20
        }
      ],
      "source": [
        "np.split(m, [1,3], axis=1)"
      ]
    },
    {
      "cell_type": "code",
      "execution_count": 21,
      "metadata": {
        "colab": {
          "base_uri": "https://localhost:8080/"
        },
        "id": "nYGDzJHUJHKS",
        "outputId": "842548a2-2449-4874-eec9-e260c06762bb"
      },
      "outputs": [
        {
          "output_type": "execute_result",
          "data": {
            "text/plain": [
              "[array([[ 0,  1,  2,  3],\n",
              "        [ 4,  5,  6,  7],\n",
              "        [ 8,  9, 10, 11]]), array([[12, 13, 14, 15],\n",
              "        [16, 17, 18, 19]])]"
            ]
          },
          "metadata": {},
          "execution_count": 21
        }
      ],
      "source": [
        "np.vsplit(m, [3])"
      ]
    },
    {
      "cell_type": "code",
      "execution_count": 22,
      "metadata": {
        "colab": {
          "base_uri": "https://localhost:8080/"
        },
        "id": "_WZhhKZeJHKS",
        "outputId": "19d7738e-a27b-4472-86bd-0cbfd5a1c6fd"
      },
      "outputs": [
        {
          "output_type": "execute_result",
          "data": {
            "text/plain": [
              "[array([[ 0,  1,  2],\n",
              "        [ 4,  5,  6],\n",
              "        [ 8,  9, 10],\n",
              "        [12, 13, 14],\n",
              "        [16, 17, 18]]), array([[ 3],\n",
              "        [ 7],\n",
              "        [11],\n",
              "        [15],\n",
              "        [19]])]"
            ]
          },
          "metadata": {},
          "execution_count": 22
        }
      ],
      "source": [
        "np.hsplit(m, [3])"
      ]
    },
    {
      "cell_type": "markdown",
      "metadata": {
        "id": "C1vP9FdgJHKT"
      },
      "source": [
        "## <p style=\"background-color:#9d4f8c; font-family:newtimeroman; color:#FFF9ED; font-size:175%; text-align:center; border-radius:10px 10px;\">Sorting of the Arrays</p>\n",
        "\n",
        "<a id=\"0000\"></a>\n",
        "<a href=\"#toc\" class=\"btn btn-primary btn-sm\" role=\"button\" aria-pressed=\"true\" \n",
        "style=\"color:blue; background-color:#dfa8e4\" data-toggle=\"popover\">Content</a>"
      ]
    },
    {
      "cell_type": "code",
      "execution_count": 23,
      "metadata": {
        "colab": {
          "base_uri": "https://localhost:8080/"
        },
        "id": "bDty4InEJHKU",
        "outputId": "be581260-0aa0-4461-c018-f495f654c347"
      },
      "outputs": [
        {
          "output_type": "execute_result",
          "data": {
            "text/plain": [
              "array([2, 1, 3, 4, 5])"
            ]
          },
          "metadata": {},
          "execution_count": 23
        }
      ],
      "source": [
        "v = np.array([2,1,3,4,5])\n",
        "v"
      ]
    },
    {
      "cell_type": "code",
      "execution_count": 24,
      "metadata": {
        "colab": {
          "base_uri": "https://localhost:8080/"
        },
        "id": "kcVPP3ekJHKU",
        "outputId": "418b7210-226b-463f-e88a-8dfb3224a52b"
      },
      "outputs": [
        {
          "output_type": "execute_result",
          "data": {
            "text/plain": [
              "array([1, 2, 3, 4, 5])"
            ]
          },
          "metadata": {},
          "execution_count": 24
        }
      ],
      "source": [
        "np.sort(v)"
      ]
    },
    {
      "cell_type": "code",
      "execution_count": 25,
      "metadata": {
        "colab": {
          "base_uri": "https://localhost:8080/"
        },
        "id": "CtQhTpGEJHKU",
        "outputId": "dc3a1f66-fa81-4de5-b51a-ad29fd762bd9"
      },
      "outputs": [
        {
          "output_type": "execute_result",
          "data": {
            "text/plain": [
              "array([2, 1, 3, 4, 5])"
            ]
          },
          "metadata": {},
          "execution_count": 25
        }
      ],
      "source": [
        "v #yeni degiskene atilmazsa orjinal hali degismez"
      ]
    },
    {
      "cell_type": "code",
      "execution_count": 28,
      "metadata": {
        "id": "uXMOQHrAJHKU"
      },
      "outputs": [],
      "source": [
        "v.sort() #eger otomatik döndürme varsa orjinali bozulmuyordur (burada degisti)"
      ]
    },
    {
      "cell_type": "code",
      "execution_count": 29,
      "metadata": {
        "colab": {
          "base_uri": "https://localhost:8080/"
        },
        "id": "TyhKojODJHKV",
        "outputId": "90ccbed6-1796-4d2b-dce2-d10cc5fd47d8"
      },
      "outputs": [
        {
          "output_type": "execute_result",
          "data": {
            "text/plain": [
              "array([1, 2, 3, 4, 5])"
            ]
          },
          "metadata": {},
          "execution_count": 29
        }
      ],
      "source": [
        "v"
      ]
    },
    {
      "cell_type": "markdown",
      "metadata": {
        "id": "wV-6kEIkJHKV"
      },
      "source": [
        "### <p style=\"background-color:#9d4f8c; font-family:newtimeroman; color:#FFF9ED; font-size:150%; text-align:LEFT; border-radius:10px 10px;\">2d Matrix</p>\n",
        "\n",
        "<a id=\"0000.1\"></a>\n",
        "<a href=\"#toc\" class=\"btn btn-primary btn-sm\" role=\"button\" aria-pressed=\"true\" \n",
        "style=\"color:blue; background-color:#dfa8e4\" data-toggle=\"popover\">Content</a>"
      ]
    },
    {
      "cell_type": "code",
      "execution_count": 30,
      "metadata": {
        "id": "CC5phzT-JHKW"
      },
      "outputs": [],
      "source": [
        "twoD = np.random.randint(5,100,(3,3))"
      ]
    },
    {
      "cell_type": "code",
      "execution_count": 31,
      "metadata": {
        "colab": {
          "base_uri": "https://localhost:8080/"
        },
        "id": "piXkxhPiJHKW",
        "outputId": "068a0f83-bd1c-4ba0-a7a4-2501d2697bda"
      },
      "outputs": [
        {
          "output_type": "execute_result",
          "data": {
            "text/plain": [
              "array([[74, 22, 74],\n",
              "       [84, 43, 70],\n",
              "       [13, 68, 26]])"
            ]
          },
          "metadata": {},
          "execution_count": 31
        }
      ],
      "source": [
        "twoD"
      ]
    },
    {
      "cell_type": "code",
      "execution_count": 33,
      "metadata": {
        "colab": {
          "base_uri": "https://localhost:8080/"
        },
        "id": "8GCzo1iOJHKW",
        "outputId": "52bbadbf-30cf-4dd6-8782-d71ddaaf13a6"
      },
      "outputs": [
        {
          "output_type": "execute_result",
          "data": {
            "text/plain": [
              "array([[13, 22, 26],\n",
              "       [74, 43, 70],\n",
              "       [84, 68, 74]])"
            ]
          },
          "metadata": {},
          "execution_count": 33
        }
      ],
      "source": [
        "np.sort(twoD, axis=0) #raw"
      ]
    },
    {
      "cell_type": "code",
      "source": [
        "np.sort(twoD, axis=1) #her sütunun ilk elemanini aldi ve siraladi"
      ],
      "metadata": {
        "colab": {
          "base_uri": "https://localhost:8080/"
        },
        "id": "qKYvxt_5H6t4",
        "outputId": "f5ed848e-4411-4318-c439-7e291a96e4f2"
      },
      "execution_count": 35,
      "outputs": [
        {
          "output_type": "execute_result",
          "data": {
            "text/plain": [
              "array([[22, 74, 74],\n",
              "       [43, 70, 84],\n",
              "       [13, 26, 68]])"
            ]
          },
          "metadata": {},
          "execution_count": 35
        }
      ]
    },
    {
      "cell_type": "markdown",
      "metadata": {
        "id": "SaJzF_GeEOrr"
      },
      "source": [
        "## <p style=\"background-color:#9d4f8c; font-family:newtimeroman; color:#FFF9ED; font-size:175%; text-align:center; border-radius:10px 10px;\">Numpy Indexing & Selection</p>\n",
        "\n",
        "<a id=\"1\"></a>\n",
        "<a href=\"#toc\" class=\"btn btn-primary btn-sm\" role=\"button\" aria-pressed=\"true\" \n",
        "style=\"color:blue; background-color:#dfa8e4\" data-toggle=\"popover\">Content</a>"
      ]
    },
    {
      "cell_type": "markdown",
      "metadata": {
        "id": "3NHvHMtlJHKX"
      },
      "source": [
        "In this part of the lecture we will discuss how to select elements or groups of elements from an array.\n",
        "\n",
        "Array indexing is the same as accessing an array element. You can access an array element by referring to its index number. The indexes in NumPy arrays start with 0, meaning that the first element has index 0, and the second has index 1 etc. [SOURCE](https://www.w3schools.com/python/numpy/numpy_array_indexing.asp)\n",
        "\n",
        "### ``Types of Indexing``\n",
        "\n",
        "There are **``two types of indexing:``**\n",
        "\n",
        "**``1 - Basic Slicing and indexing:``** Consider the syntax x[obj] where x is the array and obj is the index. Slice object is the index in case of basic slicing. Basic slicing occurs when obj is :\n",
        "- a slice object that is of the form start : stop : step\n",
        "- an integer\n",
        "- or a tuple of slice objects and integers\n",
        "\n",
        "**``2 - Advanced indexing:``** Advanced indexing is triggered when obj is –\n",
        "\n",
        "- an ndarray of type integer or Boolean\n",
        "- or a tuple with at least one sequence object\n",
        "- is a non tuple sequence object\n",
        "\n",
        "For more information, please visit [INDEXING SOURCE](https://www.geeksforgeeks.org/numpy-indexing/)\n",
        "\n",
        "\n",
        "[INDEXING & SLICING Source 01](https://jakevdp.github.io/PythonDataScienceHandbook/03.02-data-indexing-and-selection.html),\n",
        "[INDEXING & SLICING Source 02](https://www.kite.com/python/answers/how-to-select-an-element-by-index-from-a-numpy-array-in-python),\n",
        "[INDEXING & SLICING Source 03](https://numpy.org/doc/stable/reference/arrays.indexing.html),\n",
        "[INDEXING & SLICING Source 04](https://www.pluralsight.com/guides/working-numpy-arrays-indexing-slicing-guide),\n",
        "[INDEXING & SLICING Source 05](https://www.brainstobytes.com/hands-on-numpy-iii-indexing-and-slicing/),\n",
        "[INDEXING & SLICING Source 06](https://pandas.pydata.org/pandas-docs/version/1.2.4/user_guide/indexing.html),\n",
        "[INDEXING & SLICING Source 07](https://www.tutorialspoint.com/numpy/numpy_advanced_indexing.htm),\n",
        "[INDEXING & SLICING Source 08](https://towardsdatascience.com/numpy-indexing-explained-c376abb2440d),\n",
        "[INDEXING & SLICING Video Source 01](https://www.pythoninformer.com/python-libraries/numpy/index-and-slice/),\n",
        "[INDEXING & SLICING Video Source 02](https://www.youtube.com/watch?v=9nbBTaz2qXI),\n",
        "[INDEXING & SLICING Video Source 03](https://www.youtube.com/watch?v=9nbBTaz2qXI) &\n",
        "[INDEXING & SLICING Video Source 03](https://www.youtube.com/watch?v=E1OFcMnU40o)"
      ]
    },
    {
      "cell_type": "code",
      "execution_count": 36,
      "metadata": {
        "id": "g7I4xObdJHKY"
      },
      "outputs": [],
      "source": [
        "arr = np.arange(0,11)"
      ]
    },
    {
      "cell_type": "code",
      "execution_count": 37,
      "metadata": {
        "colab": {
          "base_uri": "https://localhost:8080/"
        },
        "id": "BiO_I0YuJHKY",
        "outputId": "18a2a094-5cb9-43c5-b5d6-f719eb78048f"
      },
      "outputs": [
        {
          "output_type": "execute_result",
          "data": {
            "text/plain": [
              "array([ 0,  1,  2,  3,  4,  5,  6,  7,  8,  9, 10])"
            ]
          },
          "metadata": {},
          "execution_count": 37
        }
      ],
      "source": [
        "arr"
      ]
    },
    {
      "cell_type": "markdown",
      "metadata": {
        "id": "mNljteUtEOru"
      },
      "source": [
        "### <p style=\"background-color:#9d4f8c; font-family:newtimeroman; color:#FFF9ED; font-size:150%; text-align:LEFT; border-radius:10px 10px;\">Bracket Indexing & Selection</p>\n",
        "\n",
        "<a id=\"1.1\"></a>\n",
        "<a href=\"#toc\" class=\"btn btn-primary btn-sm\" role=\"button\" aria-pressed=\"true\" \n",
        "style=\"color:blue; background-color:#dfa8e4\" data-toggle=\"popover\">Content</a>\n",
        "\n",
        "The simplest way to pick one or some elements of an array looks very similar to python lists:"
      ]
    },
    {
      "cell_type": "code",
      "execution_count": 38,
      "metadata": {
        "colab": {
          "base_uri": "https://localhost:8080/"
        },
        "id": "aCWQH0OlJHKZ",
        "outputId": "c1422958-c687-4205-aa23-f46340ca2262"
      },
      "outputs": [
        {
          "output_type": "execute_result",
          "data": {
            "text/plain": [
              "8"
            ]
          },
          "metadata": {},
          "execution_count": 38
        }
      ],
      "source": [
        "arr[8]"
      ]
    },
    {
      "cell_type": "code",
      "execution_count": 39,
      "metadata": {
        "colab": {
          "base_uri": "https://localhost:8080/"
        },
        "id": "Hx_huQU9JHKa",
        "outputId": "91eb86e1-e9ce-4ad1-f231-879b0314a699"
      },
      "outputs": [
        {
          "output_type": "execute_result",
          "data": {
            "text/plain": [
              "8"
            ]
          },
          "metadata": {},
          "execution_count": 39
        }
      ],
      "source": [
        "arr[-3]"
      ]
    },
    {
      "cell_type": "code",
      "execution_count": 40,
      "metadata": {
        "colab": {
          "base_uri": "https://localhost:8080/"
        },
        "id": "Z8oNngzPJHKa",
        "outputId": "96110781-00b0-4d58-c8c0-884528d8feff"
      },
      "outputs": [
        {
          "output_type": "execute_result",
          "data": {
            "text/plain": [
              "array([1, 2, 3, 4])"
            ]
          },
          "metadata": {},
          "execution_count": 40
        }
      ],
      "source": [
        "arr[1:5]"
      ]
    },
    {
      "cell_type": "code",
      "execution_count": 41,
      "metadata": {
        "colab": {
          "base_uri": "https://localhost:8080/"
        },
        "id": "e_QuXTLsJHKa",
        "outputId": "aca8c9cd-3ea3-4ff5-905f-582c77eac1eb"
      },
      "outputs": [
        {
          "output_type": "execute_result",
          "data": {
            "text/plain": [
              "array([0, 1, 2, 3, 4])"
            ]
          },
          "metadata": {},
          "execution_count": 41
        }
      ],
      "source": [
        "arr[:5]"
      ]
    },
    {
      "cell_type": "code",
      "execution_count": 43,
      "metadata": {
        "colab": {
          "base_uri": "https://localhost:8080/"
        },
        "id": "3_GAAcyiJHKb",
        "outputId": "4e735826-3d62-4055-de6d-c8b04e786919"
      },
      "outputs": [
        {
          "output_type": "execute_result",
          "data": {
            "text/plain": [
              "array([1, 3, 5, 7, 9])"
            ]
          },
          "metadata": {},
          "execution_count": 43
        }
      ],
      "source": [
        "arr[1:10:2]"
      ]
    },
    {
      "cell_type": "code",
      "execution_count": 44,
      "metadata": {
        "colab": {
          "base_uri": "https://localhost:8080/"
        },
        "id": "kUQJvKxaJHKb",
        "outputId": "b3ab5321-8fcc-4095-ebda-817829f76567"
      },
      "outputs": [
        {
          "output_type": "execute_result",
          "data": {
            "text/plain": [
              "array([ 0,  2,  4,  6,  8, 10])"
            ]
          },
          "metadata": {},
          "execution_count": 44
        }
      ],
      "source": [
        "arr[::2]"
      ]
    },
    {
      "cell_type": "markdown",
      "metadata": {
        "id": "VlEYvXtHEOr1"
      },
      "source": [
        "### <p style=\"background-color:#9d4f8c; font-family:newtimeroman; color:#FFF9ED; font-size:150%; text-align:LEFT; border-radius:10px 10px;\">Indexing a 2D Array (Matrices)</p>\n",
        "\n",
        "<a id=\"1.2\"></a>\n",
        "<a href=\"#toc\" class=\"btn btn-primary btn-sm\" role=\"button\" aria-pressed=\"true\" \n",
        "style=\"color:blue; background-color:#dfa8e4\" data-toggle=\"popover\">Content</a>\n",
        "\n",
        "<p>The general format is <b>arr_2d[row][col]</b> or <b>arr_2d[row, col]</b>.<br> \n",
        "It's usually recommended using the comma notation for clarity.</p>\n",
        "\n",
        "![image.png](https://i.ibb.co/pvdHbBm/numpy-index.png)\n",
        "\n",
        "![image-2.png](https://i.ibb.co/jJPp6hk/numpy-indexing2.png)\n",
        "\n",
        "[SOURCE01](https://www.google.com/url?sa=i&url=https%3A%2F%2Fmedium.com%2F%40msjahid%2Fnumpy-array-indexing-slicing-23b70abb8433&psig=AOvVaw2ETiXFpQ-F-d0CMV8jD1dJ&ust=1644053862804000&source=images&cd=vfe&ved=0CAwQjhxqFwoTCIDj5JXg5fUCFQAAAAAdAAAAABAk), [SOURCE02](https://www.google.com/url?sa=i&url=https%3A%2F%2Fiq.opengenus.org%2F2d-array-in-numpy%2F&psig=AOvVaw2ETiXFpQ-F-d0CMV8jD1dJ&ust=1644053862804000&source=images&cd=vfe&ved=0CAwQjhxqFwoTCIDj5JXg5fUCFQAAAAAdAAAAABAp)<br>"
      ]
    },
    {
      "cell_type": "code",
      "execution_count": 45,
      "metadata": {
        "colab": {
          "base_uri": "https://localhost:8080/"
        },
        "id": "i0xovbJvJHKc",
        "outputId": "4a6ce29c-7211-4e6d-a241-c8c108d78de3"
      },
      "outputs": [
        {
          "output_type": "execute_result",
          "data": {
            "text/plain": [
              "array([[ 5, 10, 15],\n",
              "       [20, 25, 30],\n",
              "       [35, 40, 45]])"
            ]
          },
          "metadata": {},
          "execution_count": 45
        }
      ],
      "source": [
        "arr_2d = np.array([[5,10,15], [20,25,30], [35,40,45]])\n",
        "arr_2d"
      ]
    },
    {
      "cell_type": "code",
      "execution_count": 46,
      "metadata": {
        "colab": {
          "base_uri": "https://localhost:8080/"
        },
        "id": "vP5g_w7vJHKd",
        "outputId": "5765bc5e-e6c4-4a59-be45-35d10752258b"
      },
      "outputs": [
        {
          "output_type": "execute_result",
          "data": {
            "text/plain": [
              "array([20, 25, 30])"
            ]
          },
          "metadata": {},
          "execution_count": 46
        }
      ],
      "source": [
        "arr_2d[1]"
      ]
    },
    {
      "cell_type": "code",
      "execution_count": 47,
      "metadata": {
        "colab": {
          "base_uri": "https://localhost:8080/"
        },
        "id": "uaj96gGoJHKd",
        "outputId": "b4b87ace-bcd6-4796-ce16-79d90ee6529c"
      },
      "outputs": [
        {
          "output_type": "execute_result",
          "data": {
            "text/plain": [
              "25"
            ]
          },
          "metadata": {},
          "execution_count": 47
        }
      ],
      "source": [
        "arr_2d[1,1]"
      ]
    },
    {
      "cell_type": "code",
      "execution_count": 48,
      "metadata": {
        "colab": {
          "base_uri": "https://localhost:8080/"
        },
        "id": "ZvWLbnnoJHKd",
        "outputId": "a06390f4-3e5a-4604-f30a-a5523712212d"
      },
      "outputs": [
        {
          "output_type": "execute_result",
          "data": {
            "text/plain": [
              "25"
            ]
          },
          "metadata": {},
          "execution_count": 48
        }
      ],
      "source": [
        "arr_2d[1][1]"
      ]
    },
    {
      "cell_type": "code",
      "execution_count": null,
      "metadata": {
        "id": "suacXoFyJHKd"
      },
      "outputs": [],
      "source": [
        ""
      ]
    },
    {
      "cell_type": "markdown",
      "metadata": {
        "id": "5po9bEmcJHKe"
      },
      "source": [
        "### <p style=\"background-color:#9d4f8c; font-family:newtimeroman; color:#FFF9ED; font-size:150%; text-align:LEFT; border-radius:10px 10px;\">Slicing a 2D Array (Matrices)</p>\n",
        "\n",
        "<a id=\"1.3\"></a>\n",
        "<a href=\"#toc\" class=\"btn btn-primary btn-sm\" role=\"button\" aria-pressed=\"true\" \n",
        "style=\"color:blue; background-color:#dfa8e4\" data-toggle=\"popover\">Content</a>\n",
        "\n",
        "If you know how to select subsets of Python lists, you know most of what you need to know about ndarray slicing. The elements of the array being indexed that correspond to the elements of the indexing object are returned in a new array. The most important aspect of indexing is to remember that there is more than one dimension, and the indexing method should be able to handle these other dimensions.\n",
        "\n",
        "![image-2.png](https://i.ibb.co/64DGhj7/Numpy-index.jpg)\n",
        "\n",
        "[SOURCE](https://www.google.com/url?sa=i&url=https%3A%2F%2Fstackoverflow.com%2Fquestions%2F16096753%2Fpython-array-slicing-how-can-2d-array-slicing-be-implemented&psig=AOvVaw0cHqeY-itYpRm19imsEBuR&ust=1644054927553000&source=images&cd=vfe&ved=0CAwQjhxqFwoTCNiUt4vk5fUCFQAAAAAdAAAAABAD)"
      ]
    },
    {
      "cell_type": "code",
      "execution_count": 49,
      "metadata": {
        "colab": {
          "base_uri": "https://localhost:8080/"
        },
        "id": "smuz0fyYJHKe",
        "outputId": "4f8f1a74-1b3a-4cdf-a296-2f9c7e50e91d"
      },
      "outputs": [
        {
          "output_type": "execute_result",
          "data": {
            "text/plain": [
              "array([[ 5, 10, 15],\n",
              "       [20, 25, 30],\n",
              "       [35, 40, 45]])"
            ]
          },
          "metadata": {},
          "execution_count": 49
        }
      ],
      "source": [
        "arr_2d"
      ]
    },
    {
      "cell_type": "code",
      "execution_count": 51,
      "metadata": {
        "colab": {
          "base_uri": "https://localhost:8080/"
        },
        "id": "GKTfOo7MJHKf",
        "outputId": "1f6ce891-7272-4ffa-cf7c-86077ff3eda9"
      },
      "outputs": [
        {
          "output_type": "execute_result",
          "data": {
            "text/plain": [
              "array([[10, 15],\n",
              "       [25, 30]])"
            ]
          },
          "metadata": {},
          "execution_count": 51
        }
      ],
      "source": [
        "arr_2d[:2, 1:] #bütün rowlardan 1 den sona kadar ki elemanlar"
      ]
    },
    {
      "cell_type": "code",
      "execution_count": 52,
      "metadata": {
        "colab": {
          "base_uri": "https://localhost:8080/"
        },
        "id": "uhHaHUQsJHKf",
        "outputId": "f917d096-cc29-4202-8e22-bac9ddb989ff"
      },
      "outputs": [
        {
          "output_type": "execute_result",
          "data": {
            "text/plain": [
              "array([35, 40])"
            ]
          },
          "metadata": {},
          "execution_count": 52
        }
      ],
      "source": [
        "arr_2d[2, 0:2]"
      ]
    },
    {
      "cell_type": "code",
      "execution_count": 53,
      "metadata": {
        "colab": {
          "base_uri": "https://localhost:8080/"
        },
        "id": "WiZqINR7JHKf",
        "outputId": "567efad2-9b04-4a9f-c277-cbf614f7efed"
      },
      "outputs": [
        {
          "output_type": "execute_result",
          "data": {
            "text/plain": [
              "array([[ 5, 10, 15],\n",
              "       [20, 55, 30],\n",
              "       [35, 40, 45]])"
            ]
          },
          "metadata": {},
          "execution_count": 53
        }
      ],
      "source": [
        "arr_2d[1,1] = 55 #25'nin degerini degistirdik\n",
        "arr_2d"
      ]
    },
    {
      "cell_type": "code",
      "execution_count": 54,
      "metadata": {
        "colab": {
          "base_uri": "https://localhost:8080/"
        },
        "id": "LqLi9H8kJHKf",
        "outputId": "849b9004-4711-4190-e317-c24b1199f97d"
      },
      "outputs": [
        {
          "output_type": "execute_result",
          "data": {
            "text/plain": [
              "array([[ 5, 10, 15],\n",
              "       [20,  5, 30],\n",
              "       [35, 40, 45]])"
            ]
          },
          "metadata": {},
          "execution_count": 54
        }
      ],
      "source": [
        "arr_2d[1,1] = 5.5 #tam kismi aldik cünkü defaultu integer\n",
        "arr_2d"
      ]
    },
    {
      "cell_type": "markdown",
      "metadata": {
        "id": "Hjyd3uo3EOr3"
      },
      "source": [
        "### <p style=\"background-color:#9d4f8c; font-family:newtimeroman; color:#FFF9ED; font-size:150%; text-align:LEFT; border-radius:10px 10px;\">Fancy Indexing</p>\n",
        "\n",
        "<a id=\"1.4\"></a>\n",
        "<a href=\"#toc\" class=\"btn btn-primary btn-sm\" role=\"button\" aria-pressed=\"true\" \n",
        "style=\"color:blue; background-color:#dfa8e4\" data-toggle=\"popover\">Content</a>\n",
        "\n",
        "Fancy indexing is conceptually simple: it means passing an array of indices to access multiple array elements at once [SOURCE](https://jakevdp.github.io/PythonDataScienceHandbook/02.07-fancy-indexing.html#:~:text=Fancy%20indexing%20is%20conceptually%20simple,random.). In Fancy Indexing, we pass array of indices instead of single scalar(numbers) to fetch elements at different index points. Remember that the shape of the output depends on the shape of the index arrays rather than the shape of the array being indexed. [SOURCE01](https://www.google.com/url?sa=i&url=https%3A%2F%2Ftahamaddam.com%2Fcoding%2Fnumpy%2Fnumpy-fancy-indexing%2F&psig=AOvVaw3D06ReHkWL4NNeBSEHNddn&ust=1644055555472000&source=images&cd=vfe&ved=0CAwQjhxqFwoTCPDY4bTm5fUCFQAAAAAdAAAAABAD), [SOURCE02](https://www.google.com/url?sa=i&url=https%3A%2F%2Fstackoverflow.com%2Fquestions%2F52485840%2Fnumpy-fancy-indexing-with-tuples%3Frq%3D1&psig=AOvVaw3D06ReHkWL4NNeBSEHNddn&ust=1644055555472000&source=images&cd=vfe&ved=0CAwQjhxqFwoTCPDY4bTm5fUCFQAAAAAdAAAAABAO), [VIDEO SOURCE](https://www.youtube.com/watch?v=WpXH4PzDtYA)\n",
        "\n",
        "Fancy indexing allows you to select entire rows or columns out of order, to show this, let's quickly build out a numpy array:"
      ]
    },
    {
      "cell_type": "code",
      "execution_count": 57,
      "metadata": {
        "colab": {
          "base_uri": "https://localhost:8080/"
        },
        "id": "AXEaCPvvJHKh",
        "outputId": "e35d558c-97bb-40b8-8196-85897e3344d5"
      },
      "outputs": [
        {
          "output_type": "execute_result",
          "data": {
            "text/plain": [
              "array([ 0,  3,  6,  9, 12, 15, 18, 21, 24, 27])"
            ]
          },
          "metadata": {},
          "execution_count": 57
        }
      ],
      "source": [
        "v = np.arange(0,30,3)\n",
        "v"
      ]
    },
    {
      "cell_type": "code",
      "execution_count": 58,
      "metadata": {
        "colab": {
          "base_uri": "https://localhost:8080/"
        },
        "id": "bS-H8c7UJHKh",
        "outputId": "01742b3f-9305-4a2a-c33e-fd5c3350b56e"
      },
      "outputs": [
        {
          "output_type": "execute_result",
          "data": {
            "text/plain": [
              "array([ 3,  9, 15])"
            ]
          },
          "metadata": {},
          "execution_count": 58
        }
      ],
      "source": [
        "v[[1,3,5]]"
      ]
    },
    {
      "cell_type": "code",
      "execution_count": 60,
      "metadata": {
        "colab": {
          "base_uri": "https://localhost:8080/"
        },
        "id": "-15ieaJ1JHKh",
        "outputId": "2a2a5e72-bdf8-4e83-b33b-c2fe305763c0"
      },
      "outputs": [
        {
          "output_type": "execute_result",
          "data": {
            "text/plain": [
              "array([[0, 0, 0, 0, 0, 0, 0, 0, 0, 0],\n",
              "       [0, 0, 0, 0, 0, 0, 0, 0, 0, 0],\n",
              "       [0, 0, 0, 0, 0, 0, 0, 0, 0, 0],\n",
              "       [0, 0, 0, 0, 0, 0, 0, 0, 0, 0],\n",
              "       [0, 0, 0, 0, 0, 0, 0, 0, 0, 0],\n",
              "       [0, 0, 0, 0, 0, 0, 0, 0, 0, 0],\n",
              "       [0, 0, 0, 0, 0, 0, 0, 0, 0, 0],\n",
              "       [0, 0, 0, 0, 0, 0, 0, 0, 0, 0],\n",
              "       [0, 0, 0, 0, 0, 0, 0, 0, 0, 0],\n",
              "       [0, 0, 0, 0, 0, 0, 0, 0, 0, 0]])"
            ]
          },
          "metadata": {},
          "execution_count": 60
        }
      ],
      "source": [
        "arr2d = np.zeros((10,10), dtype= int)\n",
        "arr2d"
      ]
    },
    {
      "cell_type": "code",
      "execution_count": 62,
      "metadata": {
        "colab": {
          "base_uri": "https://localhost:8080/"
        },
        "id": "lX0PuVr-JHKi",
        "outputId": "8eb6032f-de38-4716-bfcc-2171090c9119"
      },
      "outputs": [
        {
          "output_type": "execute_result",
          "data": {
            "text/plain": [
              "array([[0, 0, 0, 0, 0, 0, 0, 0, 0, 0],\n",
              "       [1, 1, 1, 1, 1, 1, 1, 1, 1, 1],\n",
              "       [2, 2, 2, 2, 2, 2, 2, 2, 2, 2],\n",
              "       [3, 3, 3, 3, 3, 3, 3, 3, 3, 3],\n",
              "       [4, 4, 4, 4, 4, 4, 4, 4, 4, 4],\n",
              "       [5, 5, 5, 5, 5, 5, 5, 5, 5, 5],\n",
              "       [6, 6, 6, 6, 6, 6, 6, 6, 6, 6],\n",
              "       [7, 7, 7, 7, 7, 7, 7, 7, 7, 7],\n",
              "       [8, 8, 8, 8, 8, 8, 8, 8, 8, 8],\n",
              "       [9, 9, 9, 9, 9, 9, 9, 9, 9, 9]])"
            ]
          },
          "metadata": {},
          "execution_count": 62
        }
      ],
      "source": [
        "for i in range(len(arr2d)):\n",
        "  arr2d[i] = i\n",
        "arr2d"
      ]
    },
    {
      "cell_type": "code",
      "execution_count": 63,
      "metadata": {
        "colab": {
          "base_uri": "https://localhost:8080/"
        },
        "id": "wRRnnHlyJHKi",
        "outputId": "43d202a4-d440-4e07-a90b-fa5d1be24de9"
      },
      "outputs": [
        {
          "output_type": "execute_result",
          "data": {
            "text/plain": [
              "array([3, 3, 3, 3, 3, 3, 3, 3, 3, 3])"
            ]
          },
          "metadata": {},
          "execution_count": 63
        }
      ],
      "source": [
        "arr2d[3]"
      ]
    },
    {
      "cell_type": "markdown",
      "metadata": {
        "id": "ZTDDLbAIEOr6"
      },
      "source": [
        "Fancy indexing allows the following"
      ]
    },
    {
      "cell_type": "code",
      "execution_count": 64,
      "metadata": {
        "colab": {
          "base_uri": "https://localhost:8080/"
        },
        "id": "a-8-OA8aJHKj",
        "outputId": "57d736e7-f01f-4b57-d431-28d591f59c00"
      },
      "outputs": [
        {
          "output_type": "execute_result",
          "data": {
            "text/plain": [
              "array([[1, 1, 1, 1, 1, 1, 1, 1, 1, 1],\n",
              "       [3, 3, 3, 3, 3, 3, 3, 3, 3, 3],\n",
              "       [5, 5, 5, 5, 5, 5, 5, 5, 5, 5]])"
            ]
          },
          "metadata": {},
          "execution_count": 64
        }
      ],
      "source": [
        "arr2d[[1,3,5]]"
      ]
    },
    {
      "cell_type": "code",
      "execution_count": 66,
      "metadata": {
        "colab": {
          "base_uri": "https://localhost:8080/"
        },
        "id": "7ioKAkoRJHKj",
        "outputId": "5d5d385e-a463-43a5-9c09-a79e6a12bad6"
      },
      "outputs": [
        {
          "output_type": "execute_result",
          "data": {
            "text/plain": [
              "array([[7, 7, 7, 7, 7, 7, 7, 7, 7, 7],\n",
              "       [5, 5, 5, 5, 5, 5, 5, 5, 5, 5],\n",
              "       [2, 2, 2, 2, 2, 2, 2, 2, 2, 2]])"
            ]
          },
          "metadata": {},
          "execution_count": 66
        }
      ],
      "source": [
        "arr2d[[7,5,2]]"
      ]
    },
    {
      "cell_type": "markdown",
      "metadata": {
        "id": "uF0orNo5EOr6"
      },
      "source": [
        "<h3>any_array[[row indices], [column indices]]</h3>"
      ]
    },
    {
      "cell_type": "code",
      "execution_count": 67,
      "metadata": {
        "colab": {
          "base_uri": "https://localhost:8080/"
        },
        "id": "ZrmZimOUJHKl",
        "outputId": "47cbbbbc-5aa6-4183-c2ab-4099cd7358d3"
      },
      "outputs": [
        {
          "output_type": "execute_result",
          "data": {
            "text/plain": [
              "array([[ 1,  2,  3,  4],\n",
              "       [ 5,  6,  7,  8],\n",
              "       [ 9, 10, 11, 12],\n",
              "       [13, 14, 15, 16]])"
            ]
          },
          "metadata": {},
          "execution_count": 67
        }
      ],
      "source": [
        "jj = np.arange(1,17).reshape(4,4)\n",
        "jj"
      ]
    },
    {
      "cell_type": "code",
      "execution_count": 69,
      "metadata": {
        "colab": {
          "base_uri": "https://localhost:8080/"
        },
        "id": "BKRMS7-ZJHKl",
        "outputId": "a65cbb1a-8d08-4669-bc6b-ff3dae2ca331"
      },
      "outputs": [
        {
          "output_type": "execute_result",
          "data": {
            "text/plain": [
              "array([ 5, 12])"
            ]
          },
          "metadata": {},
          "execution_count": 69
        }
      ],
      "source": [
        "jj[[1,2],[0,3]]"
      ]
    },
    {
      "cell_type": "code",
      "execution_count": 70,
      "metadata": {
        "colab": {
          "base_uri": "https://localhost:8080/"
        },
        "id": "2QuD_j32JHKl",
        "outputId": "68def809-c86f-40f6-de08-fcdc6bf81a30"
      },
      "outputs": [
        {
          "output_type": "execute_result",
          "data": {
            "text/plain": [
              "array([ 5, 12,  3])"
            ]
          },
          "metadata": {},
          "execution_count": 70
        }
      ],
      "source": [
        "jj[[1,2,0],[0,3,2]]"
      ]
    },
    {
      "cell_type": "markdown",
      "metadata": {
        "id": "nnT2nQpmEOr7"
      },
      "source": [
        "### <p style=\"background-color:#9d4f8c; font-family:newtimeroman; color:#FFF9ED; font-size:150%; text-align:LEFT; border-radius:10px 10px;\">Using ***Basic Index*** & ***Fancy Index*** Together</p>\n",
        "\n",
        "<a id=\"1.5\"></a>\n",
        "<a href=\"#toc\" class=\"btn btn-primary btn-sm\" role=\"button\" aria-pressed=\"true\" \n",
        "style=\"color:blue; background-color:#dfa8e4\" data-toggle=\"popover\">Content</a>\n",
        "\n"
      ]
    },
    {
      "cell_type": "code",
      "execution_count": 71,
      "metadata": {
        "colab": {
          "base_uri": "https://localhost:8080/"
        },
        "id": "SSbTKt9QJHKm",
        "outputId": "caf28852-60b1-41fc-df26-eb697cd84528"
      },
      "outputs": [
        {
          "output_type": "execute_result",
          "data": {
            "text/plain": [
              "array([[ 1,  2,  3,  4],\n",
              "       [ 5,  6,  7,  8],\n",
              "       [ 9, 10, 11, 12],\n",
              "       [13, 14, 15, 16]])"
            ]
          },
          "metadata": {},
          "execution_count": 71
        }
      ],
      "source": [
        "jj"
      ]
    },
    {
      "cell_type": "code",
      "execution_count": 72,
      "metadata": {
        "colab": {
          "base_uri": "https://localhost:8080/"
        },
        "id": "90K2NampJHKm",
        "outputId": "31ce9d5f-3658-4432-93c3-bcc51d684bdc"
      },
      "outputs": [
        {
          "output_type": "execute_result",
          "data": {
            "text/plain": [
              "array([6, 8])"
            ]
          },
          "metadata": {},
          "execution_count": 72
        }
      ],
      "source": [
        "jj[1, [1,3]] #1'in 1. elemani 1'in 3. elemani"
      ]
    },
    {
      "cell_type": "markdown",
      "metadata": {
        "id": "V9EwT91qEOr8"
      },
      "source": [
        "### <p style=\"background-color:#9d4f8c; font-family:newtimeroman; color:#FFF9ED; font-size:150%; text-align:LEFT; border-radius:10px 10px;\">Using ***Basic Slicing*** & ***Fancy Index*** Together</p>\n",
        "\n",
        "<a id=\"1.6\"></a>\n",
        "<a href=\"#toc\" class=\"btn btn-primary btn-sm\" role=\"button\" aria-pressed=\"true\" \n",
        "style=\"color:blue; background-color:#dfa8e4\" data-toggle=\"popover\">Content</a>\n"
      ]
    },
    {
      "cell_type": "code",
      "execution_count": 73,
      "metadata": {
        "colab": {
          "base_uri": "https://localhost:8080/"
        },
        "id": "W1j_UmjuJHKn",
        "outputId": "0a4c0f1e-23c4-419a-9d43-be210bd42f2c"
      },
      "outputs": [
        {
          "output_type": "execute_result",
          "data": {
            "text/plain": [
              "array([[ 2,  3],\n",
              "       [ 6,  7],\n",
              "       [10, 11],\n",
              "       [14, 15]])"
            ]
          },
          "metadata": {},
          "execution_count": 73
        }
      ],
      "source": [
        "jj[:, [1,2]] #sol satir, sag sütun"
      ]
    },
    {
      "cell_type": "code",
      "execution_count": 75,
      "metadata": {
        "colab": {
          "base_uri": "https://localhost:8080/"
        },
        "id": "QNxaDow0JHKo",
        "outputId": "9f5cae73-7ffb-4261-dff6-2e6151d3dcaa"
      },
      "outputs": [
        {
          "output_type": "execute_result",
          "data": {
            "text/plain": [
              "array([[ 2,  3],\n",
              "       [ 6,  7],\n",
              "       [10, 11],\n",
              "       [14, 15]])"
            ]
          },
          "metadata": {},
          "execution_count": 75
        }
      ],
      "source": [
        "jj[:, 1:3]"
      ]
    },
    {
      "cell_type": "code",
      "execution_count": 74,
      "metadata": {
        "colab": {
          "base_uri": "https://localhost:8080/"
        },
        "id": "Hnp9pGMGJHKn",
        "outputId": "bd5d181d-a7e8-4757-9cfd-8c5da8c410c0"
      },
      "outputs": [
        {
          "output_type": "execute_result",
          "data": {
            "text/plain": [
              "array([[ 6,  7],\n",
              "       [10, 11]])"
            ]
          },
          "metadata": {},
          "execution_count": 74
        }
      ],
      "source": [
        "jj[1:3, 1:3]"
      ]
    },
    {
      "cell_type": "markdown",
      "metadata": {
        "id": "StVz_DG2EOr8"
      },
      "source": [
        "### <p style=\"background-color:#9d4f8c; font-family:newtimeroman; color:#FFF9ED; font-size:150%; text-align:LEFT; border-radius:10px 10px;\">More Indexing Help</p>\n",
        "\n",
        "<a id=\"1.7\"></a>\n",
        "<a href=\"#toc\" class=\"btn btn-primary btn-sm\" role=\"button\" aria-pressed=\"true\" \n",
        "style=\"color:blue; background-color:#dfa8e4\" data-toggle=\"popover\">Content</a>\n",
        "\n",
        "\n",
        "Indexing a 2d matrix can be a bit confusing at first, especially when you start to add in step size. Try google image searching NumPy indexing to find useful images.\n",
        "\n",
        "![image.png](https://i.ibb.co/xmcGm9C/numpy-index1.png)\n",
        "\n",
        "[SOURCE](https://www.google.com/url?sa=i&url=https%3A%2F%2Fscipy-lectures.org%2Fintro%2Fnumpy%2Farray_object.html&psig=AOvVaw21eb1iMrmWndUhejWXLkY-&ust=1644056657663000&source=images&cd=vfe&ved=0CAwQjhxqFwoTCICAqr_q5fUCFQAAAAAdAAAAABAD)\n",
        "\n",
        "Numpy arrays can be indexed with slices, but also with boolean or integer arrays (masks). This method is called fancy indexing. It creates copies not views. [SOURCE](http://cs-tklab.na-inet.jp/~tkouya/python/scipy-lectures/intro/numpy/array_object.html)\n",
        "\n",
        "![image-2.png](https://i.ibb.co/bHYsGLb/numpy-indexing-1.png)"
      ]
    },
    {
      "cell_type": "markdown",
      "metadata": {
        "id": "PuAMbPrhEOr8"
      },
      "source": [
        "## <p style=\"background-color:#9d4f8c; font-family:newtimeroman; color:#FFF9ED; font-size:175%; text-align:center; border-radius:10px 10px;\">Selection on a Condition</p>\n",
        "\n",
        "<a id=\"2\"></a>\n",
        "<a href=\"#toc\" class=\"btn btn-primary btn-sm\" role=\"button\" aria-pressed=\"true\" \n",
        "style=\"color:blue; background-color:#dfa8e4\" data-toggle=\"popover\">Content</a>\n",
        "\n",
        "Let's briefly go over how to use brackets for selection based off of comparison operators."
      ]
    },
    {
      "cell_type": "code",
      "execution_count": 76,
      "metadata": {
        "colab": {
          "base_uri": "https://localhost:8080/"
        },
        "id": "sYfdieh3JHKp",
        "outputId": "efc31c3e-1db8-4c86-98a9-34f79111b037"
      },
      "outputs": [
        {
          "output_type": "execute_result",
          "data": {
            "text/plain": [
              "array([ 0,  1,  2,  3,  4,  5,  6,  7,  8,  9, 10])"
            ]
          },
          "metadata": {},
          "execution_count": 76
        }
      ],
      "source": [
        "arr"
      ]
    },
    {
      "cell_type": "code",
      "execution_count": 77,
      "metadata": {
        "colab": {
          "base_uri": "https://localhost:8080/"
        },
        "id": "6AQRn_8LJHKp",
        "outputId": "8b844d3b-106f-48ac-bad7-7d3229d94731"
      },
      "outputs": [
        {
          "output_type": "execute_result",
          "data": {
            "text/plain": [
              "array([False, False, False, False, False,  True,  True,  True,  True,\n",
              "        True,  True])"
            ]
          },
          "metadata": {},
          "execution_count": 77
        }
      ],
      "source": [
        "arr > 4 #output boolean bir array"
      ]
    },
    {
      "cell_type": "code",
      "execution_count": 79,
      "metadata": {
        "colab": {
          "base_uri": "https://localhost:8080/"
        },
        "id": "8NiyFID_JHKp",
        "outputId": "fe0721b3-45b7-40bd-b539-a60f7b33b8d7"
      },
      "outputs": [
        {
          "output_type": "execute_result",
          "data": {
            "text/plain": [
              "array([ 5,  6,  7,  8,  9, 10])"
            ]
          },
          "metadata": {},
          "execution_count": 78
        },
        {
          "output_type": "execute_result",
          "data": {
            "text/plain": [
              "array([ 5,  6,  7,  8,  9, 10])"
            ]
          },
          "metadata": {},
          "execution_count": 79
        }
      ],
      "source": [
        "arr[arr>4]"
      ]
    },
    {
      "cell_type": "code",
      "execution_count": 81,
      "metadata": {
        "colab": {
          "base_uri": "https://localhost:8080/"
        },
        "id": "K7plnvtDJHKp",
        "outputId": "3884c3d0-b5d3-4abb-a22c-94250c584cef"
      },
      "outputs": [
        {
          "output_type": "execute_result",
          "data": {
            "text/plain": [
              "array([ 0,  1,  2,  8, 10])"
            ]
          },
          "metadata": {},
          "execution_count": 81
        }
      ],
      "source": [
        "arr[((arr<3)| (arr>7)) & (arr!=9)]"
      ]
    },
    {
      "cell_type": "markdown",
      "metadata": {
        "id": "q2LJLRlxEOrx"
      },
      "source": [
        "## <p style=\"background-color:#9d4f8c; font-family:newtimeroman; color:#FFF9ED; font-size:175%; text-align:center; border-radius:10px 10px;\">Broadcasting</p>\n",
        "\n",
        "<a id=\"3\"></a>\n",
        "<a href=\"#toc\" class=\"btn btn-primary btn-sm\" role=\"button\" aria-pressed=\"true\" \n",
        "style=\"color:blue; background-color:#dfa8e4\" data-toggle=\"popover\">Content</a>\n",
        "\n",
        "Numpy arrays differ from a normal Python list because of their ability to broadcast [SOURCE](https://numpy.org/doc/stable/user/theory.broadcasting.html).<br>\n",
        "\n",
        "**``Broadcasting``** is the name given to the method that NumPy uses to allow array arithmetic between arrays with a different shape or size [SOURCE](https://machinelearningmastery.com/broadcasting-with-numpy-arrays/#:~:text=Broadcasting%20is%20the%20name%20given,a%20different%20shape%20or%20size.&text=Subject%20to%20certain%20constraints%2C%20the,that%20they%20have%20compatible%20shapes.).<br>\n",
        "\n",
        "The term broadcasting describes how numpy treats arrays with different shapes during arithmetic operations. Subject to certain constraints, the smaller array is **``broadcast``** across the larger array so that they have compatible shapes. Broadcasting provides a means of vectorizing array operations so that looping occurs in C instead of Python. It does this without making needless copies of data and usually leads to efficient algorithm implementations. There are, however, cases where broadcasting is a bad idea because it leads to inefficient use of memory that slows computation [SOURCE](https://docs.scipy.org/doc/numpy-1.13.0/user/basics.broadcasting.html).<br> \n",
        "\n",
        "Broadcasting is an operation of matching the dimensions of differently shaped arrays in order to be able to perform further operations on those arrays (eg per-element aritmetic) [SOURCE01](https://towardsdatascience.com/broadcasting-in-numpy-58856f926d73), [SOURCE02](https://towardsdatascience.com/a-numpy-affair-broadcasting-ead20d9661f).<br>\n",
        "\n",
        "**NumPy Broadcasting Limitations**<br>\n",
        "Broadcasting is a very easy and handy tool when working with Numpy arrays. Although, there are many rules and restrictions to perform the operations.\n",
        "\n",
        "There are constraints on the dimension and shape of the arrays. We can perform broadcasting in cases where both the arrays have the same shape or only if either of the two has a size of 1. Also, we have to consider the dimensions in reverse order. We count it from the trailing dimension [SOURCE](https://data-flair.training/blogs/numpy-broadcasting/).<br>\n",
        "\n",
        "Be informed about the discussion on [When broadcasting is a bad idea? (numpy)](https://stackoverflow.com/questions/47309818/when-broadcasting-is-a-bad-idea-numpy) at Stackoverflow.\n",
        "\n",
        "More Sources: [SOURCE01](https://inblog.in/Broadcasting-in-Numpy-A-Complete-Guide-jfKy2vzHiY), [SOURCE02](https://www.pluralsight.com/guides/broadcasting-numpy-arrays-arithmeetic-operations), [SOURCE03](https://www.geeksforgeeks.org/python-broadcasting-with-numpy-arrays/), [SOURCE04](https://www.askpython.com/python-modules/numpy/numpy-broadcasting), [SOURCE05](https://stackoverflow.com/questions/32832923/numpy-what-is-broadcasting), [SOURCE06](https://stackoverflow.com/questions/61090539/how-can-i-use-broadcasting-with-numpy-to-speed-up-this-correlation-calculation), [SOURCE07](https://stackoverflow.com/questions/68185016/numpy-broadcasting-two-arrays-of-different-shape-to-matrix), [SOURCE08](https://stackoverflow.com/questions/50569344/broadcasting-using-numpys-sum-function)"
      ]
    },
    {
      "cell_type": "code",
      "source": [
        "arr"
      ],
      "metadata": {
        "colab": {
          "base_uri": "https://localhost:8080/"
        },
        "id": "d94sGM9JR5f7",
        "outputId": "5b0ad44b-bf0e-4862-9a80-dfd322b28fc1"
      },
      "execution_count": 82,
      "outputs": [
        {
          "output_type": "execute_result",
          "data": {
            "text/plain": [
              "array([ 0,  1,  2,  3,  4,  5,  6,  7,  8,  9, 10])"
            ]
          },
          "metadata": {},
          "execution_count": 82
        }
      ]
    },
    {
      "cell_type": "code",
      "execution_count": 83,
      "metadata": {
        "id": "OaFdVSD-JHKr"
      },
      "outputs": [],
      "source": [
        "arr[:5] = 77"
      ]
    },
    {
      "cell_type": "code",
      "execution_count": 84,
      "metadata": {
        "colab": {
          "base_uri": "https://localhost:8080/"
        },
        "id": "wuRpd0hMJHKr",
        "outputId": "9303140a-151d-448c-c641-df73091f7c1a"
      },
      "outputs": [
        {
          "output_type": "execute_result",
          "data": {
            "text/plain": [
              "array([77, 77, 77, 77, 77,  5,  6,  7,  8,  9, 10])"
            ]
          },
          "metadata": {},
          "execution_count": 84
        }
      ],
      "source": [
        "arr"
      ]
    },
    {
      "cell_type": "code",
      "execution_count": 86,
      "metadata": {
        "colab": {
          "base_uri": "https://localhost:8080/"
        },
        "id": "822aUD-yJHKr",
        "outputId": "1efcfee3-ba39-4d53-efaa-d9760731e53e"
      },
      "outputs": [
        {
          "output_type": "execute_result",
          "data": {
            "text/plain": [
              "[0, 2, 4, 6, 8, 10]"
            ]
          },
          "metadata": {},
          "execution_count": 86
        }
      ],
      "source": [
        "a = [0,2,4,6,8,10]\n",
        "a"
      ]
    },
    {
      "cell_type": "code",
      "execution_count": 87,
      "metadata": {
        "colab": {
          "base_uri": "https://localhost:8080/",
          "height": 164
        },
        "id": "jNnbNKl5JHKr",
        "outputId": "4f2f345c-1f7c-4c6f-8735-e3a8e8f81fe3"
      },
      "outputs": [
        {
          "output_type": "error",
          "ename": "TypeError",
          "evalue": "ignored",
          "traceback": [
            "\u001b[0;31m---------------------------------------------------------------------------\u001b[0m",
            "\u001b[0;31mTypeError\u001b[0m                                 Traceback (most recent call last)",
            "\u001b[0;32m<ipython-input-87-9a50d3d8da92>\u001b[0m in \u001b[0;36m<module>\u001b[0;34m()\u001b[0m\n\u001b[0;32m----> 1\u001b[0;31m \u001b[0ma\u001b[0m\u001b[0;34m[\u001b[0m\u001b[0;34m:\u001b[0m\u001b[0;36m3\u001b[0m\u001b[0;34m]\u001b[0m \u001b[0;34m=\u001b[0m \u001b[0;36m99\u001b[0m\u001b[0;34m\u001b[0m\u001b[0;34m\u001b[0m\u001b[0m\n\u001b[0m",
            "\u001b[0;31mTypeError\u001b[0m: can only assign an iterable"
          ]
        }
      ],
      "source": [
        "a[:3] = 99"
      ]
    },
    {
      "cell_type": "code",
      "execution_count": 88,
      "metadata": {
        "colab": {
          "base_uri": "https://localhost:8080/"
        },
        "id": "3QgcjT_WJHKr",
        "outputId": "e0868706-da54-4150-b0f4-dcd198490b48"
      },
      "outputs": [
        {
          "output_type": "execute_result",
          "data": {
            "text/plain": [
              "[99, 99, 99, 6, 8, 10]"
            ]
          },
          "metadata": {},
          "execution_count": 88
        }
      ],
      "source": [
        "a[:3] = [99,99,99]\n",
        "a"
      ]
    },
    {
      "cell_type": "code",
      "execution_count": 89,
      "metadata": {
        "colab": {
          "base_uri": "https://localhost:8080/"
        },
        "id": "joVOgAo7JHKs",
        "outputId": "0e8d1fac-636c-48b8-ef84-57dc123122ae"
      },
      "outputs": [
        {
          "output_type": "execute_result",
          "data": {
            "text/plain": [
              "array([ 0,  1,  2,  3,  4,  5,  6,  7,  8,  9, 10])"
            ]
          },
          "metadata": {},
          "execution_count": 89
        }
      ],
      "source": [
        " arr = np.arange(0,11)\n",
        " arr"
      ]
    },
    {
      "cell_type": "code",
      "execution_count": 91,
      "metadata": {
        "colab": {
          "base_uri": "https://localhost:8080/"
        },
        "id": "wEpR7jfWJHKs",
        "outputId": "3aa13fac-583b-4961-ccdc-bde7e9d5d7bc"
      },
      "outputs": [
        {
          "output_type": "execute_result",
          "data": {
            "text/plain": [
              "array([ 0,  1,  2,  3,  4,  5,  6,  7,  8,  9, 10])"
            ]
          },
          "metadata": {},
          "execution_count": 91
        }
      ],
      "source": [
        "arr_slice = arr[:6]\n",
        "arr"
      ]
    },
    {
      "cell_type": "code",
      "execution_count": 95,
      "metadata": {
        "colab": {
          "base_uri": "https://localhost:8080/"
        },
        "id": "C0ARPY5_JHKs",
        "outputId": "8ac28eed-b8f0-45e4-a4a9-a105e533d61e"
      },
      "outputs": [
        {
          "output_type": "execute_result",
          "data": {
            "text/plain": [
              "array([55, 55, 55, 55, 55, 55])"
            ]
          },
          "metadata": {},
          "execution_count": 95
        }
      ],
      "source": [
        "arr_slice[:] = 55\n",
        "arr_slice"
      ]
    },
    {
      "cell_type": "markdown",
      "metadata": {
        "id": "DRMk8hpoEOr0"
      },
      "source": [
        "Now **``note``** that the changes also occur in our original array!"
      ]
    },
    {
      "cell_type": "code",
      "execution_count": 96,
      "metadata": {
        "colab": {
          "base_uri": "https://localhost:8080/"
        },
        "id": "DJpS9LS1JHKt",
        "outputId": "0012b992-04bf-4ad4-be27-1136cb383bbb"
      },
      "outputs": [
        {
          "output_type": "execute_result",
          "data": {
            "text/plain": [
              "array([55, 55, 55, 55, 55, 55,  6,  7,  8,  9, 10])"
            ]
          },
          "metadata": {},
          "execution_count": 96
        }
      ],
      "source": [
        "arr"
      ]
    },
    {
      "cell_type": "markdown",
      "metadata": {
        "id": "erHJLMDVEOr0"
      },
      "source": [
        "Data is not copied, it's a view of the original array! This avoids memory problems!"
      ]
    },
    {
      "cell_type": "code",
      "execution_count": 99,
      "metadata": {
        "colab": {
          "base_uri": "https://localhost:8080/"
        },
        "id": "7sXpWRO0JHKt",
        "outputId": "5d9e3945-9a34-4eb6-9e5b-83706033b370"
      },
      "outputs": [
        {
          "output_type": "execute_result",
          "data": {
            "text/plain": [
              "array([55, 55, 55, 55, 55, 55,  6,  7,  8,  9, 10])"
            ]
          },
          "metadata": {},
          "execution_count": 99
        }
      ],
      "source": [
        "arr_copy = arr.copy()\n",
        "arr_copy"
      ]
    },
    {
      "cell_type": "code",
      "execution_count": 100,
      "metadata": {
        "colab": {
          "base_uri": "https://localhost:8080/"
        },
        "id": "qrn1TGhsJHKt",
        "outputId": "89dc28c6-f56e-430d-9d56-a5e3221e951b"
      },
      "outputs": [
        {
          "output_type": "execute_result",
          "data": {
            "text/plain": [
              "array([ 0,  1,  2,  3,  4,  5,  6,  7,  8,  9, 10])"
            ]
          },
          "metadata": {},
          "execution_count": 100
        }
      ],
      "source": [
        "arr_copy[:6] = [0,1,2,3,4,5]\n",
        "arr_copy"
      ]
    },
    {
      "cell_type": "code",
      "execution_count": 104,
      "metadata": {
        "colab": {
          "base_uri": "https://localhost:8080/"
        },
        "id": "qnhjq-r8JHKu",
        "outputId": "6a542097-70f0-4699-cdae-99af873ac3d7"
      },
      "outputs": [
        {
          "output_type": "execute_result",
          "data": {
            "text/plain": [
              "array([ 0,  1,  2,  3,  4,  5,  6,  7,  8,  9, 10])"
            ]
          },
          "metadata": {},
          "execution_count": 104
        }
      ],
      "source": [
        "arr"
      ]
    },
    {
      "cell_type": "markdown",
      "metadata": {
        "id": "5ZSc-mkWEOr9"
      },
      "source": [
        "## <p style=\"background-color:#9d4f8c; font-family:newtimeroman; color:#FFF9ED; font-size:175%; text-align:center; border-radius:10px 10px;\">Numpy Operations</p>\n",
        "\n",
        "<a id=\"4\"></a>\n",
        "<a href=\"#toc\" class=\"btn btn-primary btn-sm\" role=\"button\" aria-pressed=\"true\" \n",
        "style=\"color:blue; background-color:#dfa8e4\" data-toggle=\"popover\">Content</a>\n",
        "\n",
        "![image.png](https://i.ibb.co/n65mpTL/numpy-operations.png)"
      ]
    },
    {
      "cell_type": "markdown",
      "metadata": {
        "id": "W9C14mPVEOr-"
      },
      "source": [
        "### <p style=\"background-color:#9d4f8c; font-family:newtimeroman; color:#FFF9ED; font-size:150%; text-align:LEFT; border-radius:10px 10px;\">Arithmetic Operations</p>\n",
        "\n",
        "<a id=\"4.1\"></a>\n",
        "<a href=\"#toc\" class=\"btn btn-primary btn-sm\" role=\"button\" aria-pressed=\"true\" \n",
        "style=\"color:blue; background-color:#dfa8e4\" data-toggle=\"popover\">Content</a>\n",
        "\n",
        "#### You can easily perform array with array arithmetic, or scalar with array arithmetic."
      ]
    },
    {
      "cell_type": "code",
      "execution_count": 105,
      "metadata": {
        "colab": {
          "base_uri": "https://localhost:8080/"
        },
        "id": "qMWWXnxVJHKv",
        "outputId": "687e0cff-88c9-4d05-b0d9-a4c7df600737"
      },
      "outputs": [
        {
          "output_type": "execute_result",
          "data": {
            "text/plain": [
              "array([0, 1, 2, 3, 4, 5, 6, 7, 8, 9])"
            ]
          },
          "metadata": {},
          "execution_count": 105
        }
      ],
      "source": [
        "arr = np.arange(0,10)\n",
        "arr"
      ]
    },
    {
      "cell_type": "code",
      "execution_count": 106,
      "metadata": {
        "colab": {
          "base_uri": "https://localhost:8080/"
        },
        "id": "PUecpvDFJHKv",
        "outputId": "1c236adf-23ab-485c-93d0-7a9106e587f3"
      },
      "outputs": [
        {
          "output_type": "execute_result",
          "data": {
            "text/plain": [
              "array([ 0,  2,  4,  6,  8, 10, 12, 14, 16, 18])"
            ]
          },
          "metadata": {},
          "execution_count": 106
        }
      ],
      "source": [
        "arr + arr"
      ]
    },
    {
      "cell_type": "code",
      "execution_count": 107,
      "metadata": {
        "colab": {
          "base_uri": "https://localhost:8080/"
        },
        "id": "BpvGk2jPJHKv",
        "outputId": "3981f448-2734-4406-963e-7d1dc986be99"
      },
      "outputs": [
        {
          "output_type": "execute_result",
          "data": {
            "text/plain": [
              "array([ 0,  1,  4,  9, 16, 25, 36, 49, 64, 81])"
            ]
          },
          "metadata": {},
          "execution_count": 107
        }
      ],
      "source": [
        "arr * arr"
      ]
    },
    {
      "cell_type": "code",
      "execution_count": 108,
      "metadata": {
        "colab": {
          "base_uri": "https://localhost:8080/"
        },
        "id": "ApNVeOGQJHKv",
        "outputId": "959f2103-1ce5-4e21-ee44-59ef7a1e198b"
      },
      "outputs": [
        {
          "output_type": "execute_result",
          "data": {
            "text/plain": [
              "array([0, 0, 0, 0, 0, 0, 0, 0, 0, 0])"
            ]
          },
          "metadata": {},
          "execution_count": 108
        }
      ],
      "source": [
        "arr - arr"
      ]
    },
    {
      "cell_type": "code",
      "execution_count": 111,
      "metadata": {
        "id": "6C3u003PJHKw"
      },
      "outputs": [],
      "source": [
        "import warnings\n",
        "warnings.filterwarnings('ignore')"
      ]
    },
    {
      "cell_type": "code",
      "execution_count": 112,
      "metadata": {
        "colab": {
          "base_uri": "https://localhost:8080/"
        },
        "id": "kxz76xOcJHKw",
        "outputId": "c4b0dc6b-51bb-4364-aef6-e634e9e85b91"
      },
      "outputs": [
        {
          "output_type": "execute_result",
          "data": {
            "text/plain": [
              "array([nan,  1.,  1.,  1.,  1.,  1.,  1.,  1.,  1.,  1.])"
            ]
          },
          "metadata": {},
          "execution_count": 112
        }
      ],
      "source": [
        "arr/arr"
      ]
    },
    {
      "cell_type": "code",
      "execution_count": 113,
      "metadata": {
        "colab": {
          "base_uri": "https://localhost:8080/"
        },
        "id": "GA05vLDGJHKw",
        "outputId": "66866c3f-1da8-40a0-8847-f17d537d5c7d"
      },
      "outputs": [
        {
          "output_type": "execute_result",
          "data": {
            "text/plain": [
              "array([       inf, 1.        , 0.5       , 0.33333333, 0.25      ,\n",
              "       0.2       , 0.16666667, 0.14285714, 0.125     , 0.11111111])"
            ]
          },
          "metadata": {},
          "execution_count": 113
        }
      ],
      "source": [
        "1/arr"
      ]
    },
    {
      "cell_type": "code",
      "execution_count": 114,
      "metadata": {
        "colab": {
          "base_uri": "https://localhost:8080/"
        },
        "id": "DHjJhWRcJHKw",
        "outputId": "e24422e9-84ef-4810-e31e-1177cdb784f9"
      },
      "outputs": [
        {
          "output_type": "execute_result",
          "data": {
            "text/plain": [
              "array([ 0,  1,  4,  9, 16, 25, 36, 49, 64, 81])"
            ]
          },
          "metadata": {},
          "execution_count": 114
        }
      ],
      "source": [
        "arr**2"
      ]
    },
    {
      "cell_type": "code",
      "execution_count": 115,
      "metadata": {
        "colab": {
          "base_uri": "https://localhost:8080/"
        },
        "id": "JtDNUlaSJHKw",
        "outputId": "1719a0ff-9214-4f20-976e-088eb09f059a"
      },
      "outputs": [
        {
          "output_type": "execute_result",
          "data": {
            "text/plain": [
              "array([ 1,  2,  3,  4,  5,  6,  7,  8,  9, 10])"
            ]
          },
          "metadata": {},
          "execution_count": 115
        }
      ],
      "source": [
        "arr + 1"
      ]
    },
    {
      "cell_type": "code",
      "source": [
        "np.subtract(arr,1) #her elemandan 1 cikarma"
      ],
      "metadata": {
        "colab": {
          "base_uri": "https://localhost:8080/"
        },
        "id": "I3pzazkrVhHN",
        "outputId": "d7c2a92c-fb16-4554-cd4f-fc0973f5765a"
      },
      "execution_count": 125,
      "outputs": [
        {
          "output_type": "execute_result",
          "data": {
            "text/plain": [
              "array([-1,  0,  1,  2,  3,  4,  5,  6,  7,  8])"
            ]
          },
          "metadata": {},
          "execution_count": 125
        }
      ]
    },
    {
      "cell_type": "code",
      "source": [
        "np.add(arr,2) #her elemana 2 ekleme"
      ],
      "metadata": {
        "colab": {
          "base_uri": "https://localhost:8080/"
        },
        "id": "EWj1IwBzVg2o",
        "outputId": "1b9b4130-50ea-4b32-8e8d-c19c44764d62"
      },
      "execution_count": 126,
      "outputs": [
        {
          "output_type": "execute_result",
          "data": {
            "text/plain": [
              "array([ 2,  3,  4,  5,  6,  7,  8,  9, 10, 11])"
            ]
          },
          "metadata": {},
          "execution_count": 126
        }
      ]
    },
    {
      "cell_type": "code",
      "source": [
        "np.divide(arr,2) #her elemani 2'ye bölme"
      ],
      "metadata": {
        "colab": {
          "base_uri": "https://localhost:8080/"
        },
        "id": "HHMb-kCBVguv",
        "outputId": "3bb75cec-95a4-47e9-c37e-7e6eee17eb3a"
      },
      "execution_count": 127,
      "outputs": [
        {
          "output_type": "execute_result",
          "data": {
            "text/plain": [
              "array([0. , 0.5, 1. , 1.5, 2. , 2.5, 3. , 3.5, 4. , 4.5])"
            ]
          },
          "metadata": {},
          "execution_count": 127
        }
      ]
    },
    {
      "cell_type": "code",
      "source": [
        "np.multiply(arr,3) #her elemani 3'le carpma"
      ],
      "metadata": {
        "colab": {
          "base_uri": "https://localhost:8080/"
        },
        "id": "xjG5vuw2Vgnj",
        "outputId": "67d5996b-ec7f-4cb3-968b-a38e0aff7937"
      },
      "execution_count": 129,
      "outputs": [
        {
          "output_type": "execute_result",
          "data": {
            "text/plain": [
              "array([ 0,  3,  6,  9, 12, 15, 18, 21, 24, 27])"
            ]
          },
          "metadata": {},
          "execution_count": 129
        }
      ]
    },
    {
      "cell_type": "code",
      "source": [
        "np.power(arr,3) #3.karekök alma"
      ],
      "metadata": {
        "colab": {
          "base_uri": "https://localhost:8080/"
        },
        "id": "YNtas9DcVgge",
        "outputId": "a1b3af9b-8232-4fda-aef0-d6da3c7b0019"
      },
      "execution_count": 130,
      "outputs": [
        {
          "output_type": "execute_result",
          "data": {
            "text/plain": [
              "array([  0,   1,   8,  27,  64, 125, 216, 343, 512, 729])"
            ]
          },
          "metadata": {},
          "execution_count": 130
        }
      ]
    },
    {
      "cell_type": "code",
      "source": [
        "np.mode(arr,2) #2'ye göre mod alma"
      ],
      "metadata": {
        "id": "A86rAP-xVgaH"
      },
      "execution_count": null,
      "outputs": []
    },
    {
      "cell_type": "code",
      "source": [
        "np.mod(arr[2:6],2)"
      ],
      "metadata": {
        "colab": {
          "base_uri": "https://localhost:8080/"
        },
        "id": "nvvFbeUwWH1X",
        "outputId": "40e44212-2106-493e-c2e1-469d11d9f1cd"
      },
      "execution_count": 131,
      "outputs": [
        {
          "output_type": "execute_result",
          "data": {
            "text/plain": [
              "array([0, 1, 0, 1])"
            ]
          },
          "metadata": {},
          "execution_count": 131
        }
      ]
    },
    {
      "cell_type": "code",
      "source": [
        "np.mod(arr[arr>3],2)"
      ],
      "metadata": {
        "colab": {
          "base_uri": "https://localhost:8080/"
        },
        "id": "FWF-9Q-pWL2f",
        "outputId": "294acde5-91c8-434c-a955-9d366ea97c48"
      },
      "execution_count": 132,
      "outputs": [
        {
          "output_type": "execute_result",
          "data": {
            "text/plain": [
              "array([0, 1, 0, 1, 0, 1])"
            ]
          },
          "metadata": {},
          "execution_count": 132
        }
      ]
    },
    {
      "cell_type": "code",
      "source": [
        "np.absolute(-9)"
      ],
      "metadata": {
        "colab": {
          "base_uri": "https://localhost:8080/"
        },
        "id": "_PLXkdDpWRU9",
        "outputId": "1bfd2535-2e28-4802-84fa-8f2ce2b7d9f3"
      },
      "execution_count": 133,
      "outputs": [
        {
          "output_type": "execute_result",
          "data": {
            "text/plain": [
              "9"
            ]
          },
          "metadata": {},
          "execution_count": 133
        }
      ]
    },
    {
      "cell_type": "code",
      "source": [
        "np.absolute([-5,6,-9])"
      ],
      "metadata": {
        "colab": {
          "base_uri": "https://localhost:8080/"
        },
        "id": "lbUQffEUWXq4",
        "outputId": "627708d6-4db5-4a19-f0f7-688e7d017272"
      },
      "execution_count": 135,
      "outputs": [
        {
          "output_type": "execute_result",
          "data": {
            "text/plain": [
              "array([5, 6, 9])"
            ]
          },
          "metadata": {},
          "execution_count": 135
        }
      ]
    },
    {
      "cell_type": "code",
      "source": [
        "np.absolute(np.array([-5,6,-9]))"
      ],
      "metadata": {
        "colab": {
          "base_uri": "https://localhost:8080/"
        },
        "id": "mGJC1o9aWfR6",
        "outputId": "8aecfed5-85d3-4c21-e070-22b83d05dba5"
      },
      "execution_count": 136,
      "outputs": [
        {
          "output_type": "execute_result",
          "data": {
            "text/plain": [
              "array([5, 6, 9])"
            ]
          },
          "metadata": {},
          "execution_count": 136
        }
      ]
    },
    {
      "cell_type": "markdown",
      "metadata": {
        "id": "dAJYKy1REOsA"
      },
      "source": [
        "### <p style=\"background-color:#9d4f8c; font-family:newtimeroman; color:#FFF9ED; font-size:150%; text-align:LEFT; border-radius:10px 10px;\">Universal Array Functions</p>\n",
        "\n",
        "<a id=\"4.2\"></a>\n",
        "<a href=\"#toc\" class=\"btn btn-primary btn-sm\" role=\"button\" aria-pressed=\"true\" \n",
        "style=\"color:blue; background-color:#dfa8e4\" data-toggle=\"popover\">Content</a>\n",
        "\n",
        "![image.png](https://i.ibb.co/QYWBrtK/numpy-operations1.png)\n",
        "\n",
        "[SOURCE01](https://medium.com/swlh/universal-functions-ufuncs-a-weapon-of-numpy-b8d0145a3808), \n",
        "[SOURCE02](https://www.brainstobytes.com/hands-on-numpy-universal-functions-and-array-oriented-programming/)\n",
        "\n",
        "\n"
      ]
    },
    {
      "cell_type": "markdown",
      "metadata": {
        "id": "JEPmWEIqEOsA"
      },
      "source": [
        "#### Numpy comes with many [universal array functions](http://docs.scipy.org/doc/numpy/reference/ufuncs.html), which are essentially just mathematical operations you can use to perform the operation across the array. Let's show some common ones:"
      ]
    },
    {
      "cell_type": "code",
      "execution_count": 116,
      "metadata": {
        "colab": {
          "base_uri": "https://localhost:8080/"
        },
        "id": "xEmItJvaJHKx",
        "outputId": "0a05ad41-1eec-475a-d327-6d42e1e1fd10"
      },
      "outputs": [
        {
          "output_type": "execute_result",
          "data": {
            "text/plain": [
              "array([0, 1, 2, 3, 4, 5, 6, 7, 8, 9])"
            ]
          },
          "metadata": {},
          "execution_count": 116
        }
      ],
      "source": [
        "arr"
      ]
    },
    {
      "cell_type": "code",
      "execution_count": 117,
      "metadata": {
        "colab": {
          "base_uri": "https://localhost:8080/"
        },
        "id": "Sree33y3JHKx",
        "outputId": "d8dddeee-0943-4f15-e36c-fb18a4392872"
      },
      "outputs": [
        {
          "output_type": "execute_result",
          "data": {
            "text/plain": [
              "array([0.        , 1.        , 1.41421356, 1.73205081, 2.        ,\n",
              "       2.23606798, 2.44948974, 2.64575131, 2.82842712, 3.        ])"
            ]
          },
          "metadata": {},
          "execution_count": 117
        }
      ],
      "source": [
        "np.sqrt(arr)"
      ]
    },
    {
      "cell_type": "code",
      "execution_count": 118,
      "metadata": {
        "colab": {
          "base_uri": "https://localhost:8080/"
        },
        "id": "wbFgjJ1YJHKy",
        "outputId": "f73b005c-1ac4-4e2b-9b43-6a6285a6d08a"
      },
      "outputs": [
        {
          "output_type": "execute_result",
          "data": {
            "text/plain": [
              "array([1.00000000e+00, 2.71828183e+00, 7.38905610e+00, 2.00855369e+01,\n",
              "       5.45981500e+01, 1.48413159e+02, 4.03428793e+02, 1.09663316e+03,\n",
              "       2.98095799e+03, 8.10308393e+03])"
            ]
          },
          "metadata": {},
          "execution_count": 118
        }
      ],
      "source": [
        "np.exp(arr)"
      ]
    },
    {
      "cell_type": "code",
      "execution_count": 119,
      "metadata": {
        "colab": {
          "base_uri": "https://localhost:8080/"
        },
        "id": "ix0IogDEJHKy",
        "outputId": "3b57e8e5-3ae7-40ec-f3b1-22483753a127"
      },
      "outputs": [
        {
          "output_type": "execute_result",
          "data": {
            "text/plain": [
              "array([ 0.        ,  0.84147098,  0.90929743,  0.14112001, -0.7568025 ,\n",
              "       -0.95892427, -0.2794155 ,  0.6569866 ,  0.98935825,  0.41211849])"
            ]
          },
          "metadata": {},
          "execution_count": 119
        }
      ],
      "source": [
        "np.sin(arr)"
      ]
    },
    {
      "cell_type": "code",
      "execution_count": 120,
      "metadata": {
        "colab": {
          "base_uri": "https://localhost:8080/"
        },
        "id": "ppldZFnjJHKy",
        "outputId": "84e8ab6f-0d86-4c10-9a6d-50617b860471"
      },
      "outputs": [
        {
          "output_type": "execute_result",
          "data": {
            "text/plain": [
              "1.0"
            ]
          },
          "metadata": {},
          "execution_count": 120
        }
      ],
      "source": [
        "np.sin(np.pi/2)"
      ]
    },
    {
      "cell_type": "code",
      "execution_count": 121,
      "metadata": {
        "colab": {
          "base_uri": "https://localhost:8080/"
        },
        "id": "Q9nG3ZdwJHKy",
        "outputId": "ff96523d-09f4-4050-ba1c-927a3ef6e548"
      },
      "outputs": [
        {
          "output_type": "execute_result",
          "data": {
            "text/plain": [
              "0.9999999999999999"
            ]
          },
          "metadata": {},
          "execution_count": 121
        }
      ],
      "source": [
        "np.tan(np.pi/4)"
      ]
    },
    {
      "cell_type": "code",
      "execution_count": 122,
      "metadata": {
        "colab": {
          "base_uri": "https://localhost:8080/"
        },
        "id": "0SBsDonbJHKy",
        "outputId": "8d89b81d-c0d9-4bbb-9f7a-4f51f9d2cf68"
      },
      "outputs": [
        {
          "output_type": "execute_result",
          "data": {
            "text/plain": [
              "array([      -inf, 0.        , 0.69314718, 1.09861229, 1.38629436,\n",
              "       1.60943791, 1.79175947, 1.94591015, 2.07944154, 2.19722458])"
            ]
          },
          "metadata": {},
          "execution_count": 122
        }
      ],
      "source": [
        "np.log(arr)"
      ]
    },
    {
      "cell_type": "code",
      "execution_count": 123,
      "metadata": {
        "colab": {
          "base_uri": "https://localhost:8080/"
        },
        "id": "ycZtJaptJHKy",
        "outputId": "c819c5bf-9590-4e2f-dc27-567b36c09ee9"
      },
      "outputs": [
        {
          "output_type": "execute_result",
          "data": {
            "text/plain": [
              "array([      -inf, 0.        , 0.30103   , 0.47712125, 0.60205999,\n",
              "       0.69897   , 0.77815125, 0.84509804, 0.90308999, 0.95424251])"
            ]
          },
          "metadata": {},
          "execution_count": 123
        }
      ],
      "source": [
        "np.log10(arr)"
      ]
    },
    {
      "cell_type": "code",
      "execution_count": 124,
      "metadata": {
        "colab": {
          "base_uri": "https://localhost:8080/"
        },
        "id": "ieYECesvJHKy",
        "outputId": "21d3ccec-702a-45f3-e1be-a825048fb39b"
      },
      "outputs": [
        {
          "output_type": "execute_result",
          "data": {
            "text/plain": [
              "array([0, 1, 2, 3, 4, 5, 6, 7, 8, 9])"
            ]
          },
          "metadata": {},
          "execution_count": 124
        }
      ],
      "source": [
        "arr"
      ]
    },
    {
      "cell_type": "markdown",
      "metadata": {
        "id": "WpQVMB3xEOsF"
      },
      "source": [
        "### <p style=\"background-color:#9d4f8c; font-family:newtimeroman; color:#FFF9ED; font-size:150%; text-align:LEFT; border-radius:10px 10px;\">Statistical Calculations</p>\n",
        "\n",
        "<a id=\"4.3\"></a>\n",
        "<a href=\"#toc\" class=\"btn btn-primary btn-sm\" role=\"button\" aria-pressed=\"true\" \n",
        "style=\"color:blue; background-color:#dfa8e4\" data-toggle=\"popover\">Content</a>\n",
        "\n",
        "Statistics is concerned with collecting and then analyzing that data. It includes methods for collecting the samples, describing the data, and then concluding that data. NumPy is the fundamental package for scientific calculations and hence goes hand-in-hand for NumPy statistical Functions.\n",
        "\n",
        "NumPy contains various statistical functions that are used to perform statistical data analysis. These statistical functions are useful when finding a maximum or minimum of elements. It is also used to find basic statistical concepts like standard deviation, variance, etc.\n",
        "\n",
        "NumPy is equipped with the following statistical functions:\n",
        "\n",
        "**``np.amin(arr)``** This function determines the minimum value of the element along a specified axis.<br>\n",
        "**``np.amax(arr)``** This function determines the maximum value of the element along a specified axis.<br>\n",
        "**``arr.min()``** Returns minimum value of arr<br>\n",
        "**``arr.max(axis=0)``** Returns maximum value of specific axis<br>\n",
        "**``np.mean(arr, axis=0)``** It determines the mean value of the data set.<br>\n",
        "**``np.median(arr)``** It determines the median value of the data set.<br>\n",
        "**``np.std(arr, axis=1)``** It determines the standard deviation.<br>\n",
        "**``np.var(arr)``** It determines the variance.<br>\n",
        "**``np.ptp(arr)``** It returns a range of values (maximum - minimum) along an axis.<br>\n",
        "**``np.average(arr)``** It determines the weighted average.<br>\n",
        "**``np.percentile(arr)``** It determines the nth percentile of data along the specified axis.<br>\n",
        "**``np.corrcoef(arr)``** Returns correlation coefficient of array\n",
        "\n",
        "More Sources: [SOURCE01](https://data-flair.training/blogs/numpy-statistical-functions/), [SOURCE02](https://python-tricks.com/statistical-functions-in-numpy/), [SOURCE03](https://numpy.org/doc/stable/reference/routines.statistics.html), [SOURCE04](https://www.tutorialspoint.com/numpy/numpy_statistical_functions.htm), [SOURCE05](https://www.i2tutorials.com/numpy-tutorial/numpy-statistical-functions/), [SOURCE06](https://towardsdatascience.com/use-numpy-for-statistics-and-arithmetic-operations-in-2020-2e157b784df4), [SOURCE07](https://cloudxlab.com/assessment/displayslide/2509/numpy-mathematical-and-statistical-functions-on-numpy-arrays), [SOURCE08](https://stackoverflow.com/questions/63888139/calculating-some-statistics-for-each-column-of-a-numpy-ndarray), [SOURCE09](https://www.codecademy.com/learn/intro-statistics-numpy)"
      ]
    },
    {
      "cell_type": "code",
      "execution_count": 138,
      "metadata": {
        "colab": {
          "base_uri": "https://localhost:8080/"
        },
        "id": "UCa-Xp6wJHKz",
        "outputId": "65f5d69f-4895-4414-87d6-4a69c514ea53"
      },
      "outputs": [
        {
          "output_type": "execute_result",
          "data": {
            "text/plain": [
              "array([1, 1, 2, 2, 3, 3, 3])"
            ]
          },
          "metadata": {},
          "execution_count": 138
        }
      ],
      "source": [
        "v = np.array([1,1,2,2,3,3,3,])\n",
        "v"
      ]
    },
    {
      "cell_type": "code",
      "execution_count": 139,
      "metadata": {
        "colab": {
          "base_uri": "https://localhost:8080/"
        },
        "id": "5287IVtzJHKz",
        "outputId": "27cb9cc5-9697-446c-80bb-388718d520f6"
      },
      "outputs": [
        {
          "output_type": "execute_result",
          "data": {
            "text/plain": [
              "2.142857142857143"
            ]
          },
          "metadata": {},
          "execution_count": 139
        }
      ],
      "source": [
        "np.mean(v)"
      ]
    },
    {
      "cell_type": "code",
      "execution_count": 140,
      "metadata": {
        "colab": {
          "base_uri": "https://localhost:8080/"
        },
        "id": "Frt-TF0SJHKz",
        "outputId": "028aceb9-31a5-414b-c8f0-a5da82119072"
      },
      "outputs": [
        {
          "output_type": "execute_result",
          "data": {
            "text/plain": [
              "2.142857142857143"
            ]
          },
          "metadata": {},
          "execution_count": 140
        }
      ],
      "source": [
        "v.mean()"
      ]
    },
    {
      "cell_type": "code",
      "execution_count": 141,
      "metadata": {
        "colab": {
          "base_uri": "https://localhost:8080/"
        },
        "id": "a1wAihS9JHKz",
        "outputId": "bb7fc9ca-5bc7-4f59-cabd-c125798b1cc1"
      },
      "outputs": [
        {
          "output_type": "execute_result",
          "data": {
            "text/plain": [
              "2.0"
            ]
          },
          "metadata": {},
          "execution_count": 141
        }
      ],
      "source": [
        "np.median(v)"
      ]
    },
    {
      "cell_type": "code",
      "source": [
        "v.median()"
      ],
      "metadata": {
        "colab": {
          "base_uri": "https://localhost:8080/",
          "height": 164
        },
        "id": "bV9n1R9tXpLx",
        "outputId": "4f9372e7-325e-48b1-bef2-728e06963538"
      },
      "execution_count": 144,
      "outputs": [
        {
          "output_type": "error",
          "ename": "AttributeError",
          "evalue": "ignored",
          "traceback": [
            "\u001b[0;31m---------------------------------------------------------------------------\u001b[0m",
            "\u001b[0;31mAttributeError\u001b[0m                            Traceback (most recent call last)",
            "\u001b[0;32m<ipython-input-144-86567fe2566d>\u001b[0m in \u001b[0;36m<module>\u001b[0;34m()\u001b[0m\n\u001b[0;32m----> 1\u001b[0;31m \u001b[0mv\u001b[0m\u001b[0;34m.\u001b[0m\u001b[0mmedian\u001b[0m\u001b[0;34m(\u001b[0m\u001b[0;34m)\u001b[0m\u001b[0;34m\u001b[0m\u001b[0;34m\u001b[0m\u001b[0m\n\u001b[0m",
            "\u001b[0;31mAttributeError\u001b[0m: 'numpy.ndarray' object has no attribute 'median'"
          ]
        }
      ]
    },
    {
      "cell_type": "code",
      "execution_count": 143,
      "metadata": {
        "colab": {
          "base_uri": "https://localhost:8080/"
        },
        "id": "Ce4w3pK4JHK0",
        "outputId": "21c4635a-958a-46d5-c779-2cfbcb2dfc10"
      },
      "outputs": [
        {
          "output_type": "execute_result",
          "data": {
            "text/plain": [
              "0.8329931278350429"
            ]
          },
          "metadata": {},
          "execution_count": 143
        }
      ],
      "source": [
        "v.std()"
      ]
    },
    {
      "cell_type": "code",
      "execution_count": 145,
      "metadata": {
        "colab": {
          "base_uri": "https://localhost:8080/"
        },
        "id": "wRb80RDIJHK0",
        "outputId": "35562a24-453d-4609-df07-eb4125e7a4b1"
      },
      "outputs": [
        {
          "output_type": "execute_result",
          "data": {
            "text/plain": [
              "0.6938775510204082"
            ]
          },
          "metadata": {},
          "execution_count": 145
        }
      ],
      "source": [
        "v.var()"
      ]
    },
    {
      "cell_type": "code",
      "execution_count": 146,
      "metadata": {
        "colab": {
          "base_uri": "https://localhost:8080/"
        },
        "id": "Lo5RtlmSJHK0",
        "outputId": "2e8de305-9fbb-46ee-aee1-bde6dff3d2f3"
      },
      "outputs": [
        {
          "output_type": "execute_result",
          "data": {
            "text/plain": [
              "15"
            ]
          },
          "metadata": {},
          "execution_count": 146
        }
      ],
      "source": [
        "v.sum()"
      ]
    },
    {
      "cell_type": "code",
      "execution_count": 149,
      "metadata": {
        "colab": {
          "base_uri": "https://localhost:8080/"
        },
        "id": "wKrBC3zaJHK0",
        "outputId": "0de31d67-ebce-4ade-f526-79069bda6548"
      },
      "outputs": [
        {
          "output_type": "execute_result",
          "data": {
            "text/plain": [
              "array([[-1.74976547,  0.3426804 ,  1.1530358 , -0.25243604,  0.98132079],\n",
              "       [ 0.51421884,  0.22117967, -1.07004333, -0.18949583,  0.25500144],\n",
              "       [-0.45802699,  0.43516349, -0.58359505,  0.81684707,  0.67272081]])"
            ]
          },
          "metadata": {},
          "execution_count": 149
        }
      ],
      "source": [
        "np.random.seed(100)\n",
        "\n",
        "arr = np.random.randn(3,5)\n",
        "arr"
      ]
    },
    {
      "cell_type": "code",
      "execution_count": 150,
      "metadata": {
        "colab": {
          "base_uri": "https://localhost:8080/"
        },
        "id": "hrKzYiZ1JHK0",
        "outputId": "db54716c-fbfd-4aa8-eb3d-0c9c1db49faa"
      },
      "outputs": [
        {
          "output_type": "execute_result",
          "data": {
            "text/plain": [
              "array([[ 1.        , -0.59546206,  0.21180175],\n",
              "       [-0.59546206,  1.        ,  0.33872371],\n",
              "       [ 0.21180175,  0.33872371,  1.        ]])"
            ]
          },
          "metadata": {},
          "execution_count": 150
        }
      ],
      "source": [
        "np.corrcoef(arr) #0'in 1 ile corr gibi ilerliyor"
      ]
    },
    {
      "cell_type": "markdown",
      "metadata": {
        "id": "21iUfOlYJHK0"
      },
      "source": [
        "## <p style=\"background-color:#9d4f8c; font-family:newtimeroman; color:#FFF9ED; font-size:175%; text-align:center; border-radius:10px 10px;\"Official Tutorial</p>\n",
        "\n",
        "<a id=\"5\"></a>\n",
        "<a href=\"#toc\" class=\"btn btn-primary btn-sm\" role=\"button\" aria-pressed=\"true\" \n",
        "style=\"color:blue; background-color:#dfa8e4\" data-toggle=\"popover\">Content</a>"
      ]
    },
    {
      "cell_type": "markdown",
      "metadata": {
        "id": "ZRaDLo8tEOsK"
      },
      "source": [
        "## You can take a look at an attractive [official tutorial](https://numpy.org/devdocs/user/absolute_beginners.html) for beginners of NumPy."
      ]
    },
    {
      "cell_type": "markdown",
      "metadata": {
        "id": "2j7VSJzLEOsJ"
      },
      "source": [
        "## <p style=\"background-color:#FDFEFE; font-family:newtimeroman; color:#9d4f8c; font-size:150%; text-align:center; border-radius:10px 10px;\">The End of the NumPy Session - 02</p>\n",
        "\n",
        "<a id=\"6\"></a>\n",
        "<a href=\"#toc\" class=\"btn btn-primary btn-sm\" role=\"button\" aria-pressed=\"true\" \n",
        "style=\"color:blue; background-color:#dfa8e4\" data-toggle=\"popover\">Content</a>"
      ]
    },
    {
      "cell_type": "markdown",
      "metadata": {
        "id": "l_NHv4a9EOsK"
      },
      "source": [
        "<p style=\"text-align: center;\"><img src=\"https://docs.google.com/uc?id=1lY0Uj5R04yMY3-ZppPWxqCr5pvBLYPnV\" class=\"img-fluid\" \n",
        "alt=\"CLRSWY\"></p>\n",
        "\n",
        "## <p style=\"background-color:#FDFEFE; font-family:newtimeroman; color:#9d4f8c; font-size:100%; text-align:center; border-radius:10px 10px;\">WAY TO REINVENT YOURSELF</p>\n",
        "___"
      ]
    }
  ],
  "metadata": {
    "colab": {
      "name": "DAwPy_S2_(Numpy_Concat_Split_Indexing_Selection_Operations)-student (1).ipynb",
      "provenance": [],
      "collapsed_sections": [
        "StVz_DG2EOr8",
        "WpQVMB3xEOsF",
        "21iUfOlYJHK0",
        "ZRaDLo8tEOsK",
        "2j7VSJzLEOsJ",
        "l_NHv4a9EOsK"
      ]
    },
    "kernelspec": {
      "display_name": "Python 3",
      "language": "python",
      "name": "python3"
    },
    "language_info": {
      "codemirror_mode": {
        "name": "ipython",
        "version": 3
      },
      "file_extension": ".py",
      "mimetype": "text/x-python",
      "name": "python",
      "nbconvert_exporter": "python",
      "pygments_lexer": "ipython3",
      "version": "3.7.6"
    },
    "toc": {
      "base_numbering": 1,
      "nav_menu": {},
      "number_sections": false,
      "sideBar": true,
      "skip_h1_title": false,
      "title_cell": "Table of Contents",
      "title_sidebar": "Contents",
      "toc_cell": false,
      "toc_position": {
        "height": "calc(100% - 180px)",
        "left": "10px",
        "top": "150px",
        "width": "194.091px"
      },
      "toc_section_display": true,
      "toc_window_display": true
    }
  },
  "nbformat": 4,
  "nbformat_minor": 0
}